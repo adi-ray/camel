{
  "cells": [
    {
      "cell_type": "markdown",
      "metadata": {
        "id": "ssX_map8c6mx"
      },
      "source": [
        "# Video Analysis"
      ]
    },
    {
      "cell_type": "markdown",
      "metadata": {
        "id": "9S0pePjZkwUz"
      },
      "source": [
        "You can also check this cookbook in colab [here](https://colab.research.google.com/drive/1egJ-14pRtBbM9lkqhHcZp75mAki1lgzS?usp=sharing)\n",
        "\n",
        "<div class=\"align-center\">\n",
        "  <a href=\"https://www.camel-ai.org/\"><img src=\"https://i.postimg.cc/KzQ5rfBC/button.png\"width=\"150\"></a>\n",
        "  <a href=\"https://discord.camel-ai.org\"><img src=\"https://i.postimg.cc/L4wPdG9N/join-2.png\"  width=\"150\"></a></a>\n",
        "  \n",
        "⭐ <i>Star us on [*Github*](https://github.com/camel-ai/camel), join our [*Discord*](https://discord.camel-ai.org) or follow our [*X*](https://x.com/camelaiorg)\n",
        "</div>"
      ]
    },
    {
      "cell_type": "markdown",
      "metadata": {
        "id": "dIJRO_u9ZNqe"
      },
      "source": [
        "This notebook demonstrates how to set up and leverage CAMEL's ability to do video analysis.\n",
        "\n",
        "In this notebook, you'll explore:\n",
        "\n",
        "* **CAMEL**: A powerful multi-agent framework that enables Retrieval-Augmented Generation and multi-agent role-playing scenarios, allowing for sophisticated AI-driven tasks.\n",
        "* **Video Analysis**: How to use CAMEL to read and generate descriptions of uploaded videos."
      ]
    },
    {
      "cell_type": "markdown",
      "metadata": {
        "id": "x2rTlUddZNqf"
      },
      "source": [
        "## 📦 Installation"
      ]
    },
    {
      "cell_type": "code",
      "execution_count": 1,
      "metadata": {
        "collapsed": true,
        "id": "AkvGo5umOwxM",
        "colab": {
          "base_uri": "https://localhost:8080/"
        },
        "outputId": "5bb6d523-3c52-4803-c923-b68a7bf4fe90"
      },
      "outputs": [
        {
          "output_type": "stream",
          "name": "stdout",
          "text": [
            "Requirement already satisfied: camel-ai==0.2.66 in /usr/local/lib/python3.11/dist-packages (from camel-ai[all]==0.2.66) (0.2.66)\n",
            "Requirement already satisfied: colorama<0.5,>=0.4.6 in /usr/local/lib/python3.11/dist-packages (from camel-ai==0.2.66->camel-ai[all]==0.2.66) (0.4.6)\n",
            "Requirement already satisfied: docstring-parser<0.16,>=0.15 in /usr/local/lib/python3.11/dist-packages (from camel-ai==0.2.66->camel-ai[all]==0.2.66) (0.15)\n",
            "Requirement already satisfied: httpx<1.0.0dev,>=0.28.0 in /usr/local/lib/python3.11/dist-packages (from camel-ai==0.2.66->camel-ai[all]==0.2.66) (0.28.1)\n",
            "Requirement already satisfied: jsonschema<5,>=4 in /usr/local/lib/python3.11/dist-packages (from camel-ai==0.2.66->camel-ai[all]==0.2.66) (4.24.0)\n",
            "Requirement already satisfied: mcp>=1.3.0 in /usr/local/lib/python3.11/dist-packages (from camel-ai==0.2.66->camel-ai[all]==0.2.66) (1.9.4)\n",
            "Requirement already satisfied: openai<2,>=1.68.0 in /usr/local/lib/python3.11/dist-packages (from camel-ai==0.2.66->camel-ai[all]==0.2.66) (1.86.0)\n",
            "Requirement already satisfied: pillow<11.0.0,>=10.1.0 in /usr/local/lib/python3.11/dist-packages (from camel-ai==0.2.66->camel-ai[all]==0.2.66) (10.4.0)\n",
            "Requirement already satisfied: psutil<6,>=5.9.8 in /usr/local/lib/python3.11/dist-packages (from camel-ai==0.2.66->camel-ai[all]==0.2.66) (5.9.8)\n",
            "Requirement already satisfied: pydantic>=2.10.6 in /usr/local/lib/python3.11/dist-packages (from camel-ai==0.2.66->camel-ai[all]==0.2.66) (2.11.5)\n",
            "Requirement already satisfied: tiktoken<0.8,>=0.7.0 in /usr/local/lib/python3.11/dist-packages (from camel-ai==0.2.66->camel-ai[all]==0.2.66) (0.7.0)\n",
            "Requirement already satisfied: aci-sdk>=1.0.0b1 in /usr/local/lib/python3.11/dist-packages (from camel-ai[all]==0.2.66) (1.0.0b2)\n",
            "Requirement already satisfied: agentops<0.4,>=0.3.21 in /usr/local/lib/python3.11/dist-packages (from camel-ai[all]==0.2.66) (0.3.26)\n",
            "Requirement already satisfied: aiosqlite<0.21,>=0.20.0 in /usr/local/lib/python3.11/dist-packages (from camel-ai[all]==0.2.66) (0.20.0)\n",
            "Requirement already satisfied: anthropic<0.50.0,>=0.47.0 in /usr/local/lib/python3.11/dist-packages (from camel-ai[all]==0.2.66) (0.49.0)\n",
            "Requirement already satisfied: apify-client<2,>=1.8.1 in /usr/local/lib/python3.11/dist-packages (from camel-ai[all]==0.2.66) (1.11.0)\n",
            "Requirement already satisfied: arxiv2text<0.2,>=0.1.14 in /usr/local/lib/python3.11/dist-packages (from camel-ai[all]==0.2.66) (0.1.14)\n",
            "Requirement already satisfied: arxiv<3,>=2.1.3 in /usr/local/lib/python3.11/dist-packages (from camel-ai[all]==0.2.66) (2.2.0)\n",
            "Requirement already satisfied: azure-storage-blob<13,>=12.21.0 in /usr/local/lib/python3.11/dist-packages (from camel-ai[all]==0.2.66) (12.25.1)\n",
            "Requirement already satisfied: beautifulsoup4<5,>=4 in /usr/local/lib/python3.11/dist-packages (from camel-ai[all]==0.2.66) (4.13.4)\n",
            "Requirement already satisfied: botocore<2,>=1.35.3 in /usr/local/lib/python3.11/dist-packages (from camel-ai[all]==0.2.66) (1.38.38)\n",
            "Requirement already satisfied: chunkr-ai>=0.0.50 in /usr/local/lib/python3.11/dist-packages (from camel-ai[all]==0.2.66) (0.0.50)\n",
            "Requirement already satisfied: cohere<6,>=5.11.0 in /usr/local/lib/python3.11/dist-packages (from camel-ai[all]==0.2.66) (5.15.0)\n",
            "Requirement already satisfied: crawl4ai>=0.3.745 in /usr/local/lib/python3.11/dist-packages (from camel-ai[all]==0.2.66) (0.4.24)\n",
            "Requirement already satisfied: dappier<0.4,>=0.3.3 in /usr/local/lib/python3.11/dist-packages (from camel-ai[all]==0.2.66) (0.3.6)\n",
            "Requirement already satisfied: datacommons-pandas<0.0.4,>=0.0.3 in /usr/local/lib/python3.11/dist-packages (from camel-ai[all]==0.2.66) (0.0.3)\n",
            "Requirement already satisfied: datacommons<2,>=1.4.3 in /usr/local/lib/python3.11/dist-packages (from camel-ai[all]==0.2.66) (1.4.3)\n",
            "Requirement already satisfied: datasets<4,>=3 in /usr/local/lib/python3.11/dist-packages (from camel-ai[all]==0.2.66) (3.6.0)\n",
            "Requirement already satisfied: daytona-sdk==0.14.0 in /usr/local/lib/python3.11/dist-packages (from camel-ai[all]==0.2.66) (0.14.0)\n",
            "Requirement already satisfied: diffusers<0.26,>=0.25.0 in /usr/local/lib/python3.11/dist-packages (from camel-ai[all]==0.2.66) (0.25.1)\n",
            "Requirement already satisfied: discord-py<3,>=2.3.2 in /usr/local/lib/python3.11/dist-packages (from camel-ai[all]==0.2.66) (2.5.2)\n",
            "Requirement already satisfied: docker<8,>=7.1.0 in /usr/local/lib/python3.11/dist-packages (from camel-ai[all]==0.2.66) (7.1.0)\n",
            "Requirement already satisfied: docx2txt<0.9,>=0.8 in /usr/local/lib/python3.11/dist-packages (from camel-ai[all]==0.2.66) (0.8)\n",
            "Requirement already satisfied: docx>=0.2.4 in /usr/local/lib/python3.11/dist-packages (from camel-ai[all]==0.2.66) (0.2.4)\n",
            "Requirement already satisfied: duckduckgo-search<7,>=6.3.5 in /usr/local/lib/python3.11/dist-packages (from camel-ai[all]==0.2.66) (6.4.2)\n",
            "Requirement already satisfied: e2b-code-interpreter<2,>=1.0.3 in /usr/local/lib/python3.11/dist-packages (from camel-ai[all]==0.2.66) (1.5.1)\n",
            "Requirement already satisfied: exa-py<2,>=1.10.0 in /usr/local/lib/python3.11/dist-packages (from camel-ai[all]==0.2.66) (1.14.7)\n",
            "Requirement already satisfied: faiss-cpu<2,>=1.7.2 in /usr/local/lib/python3.11/dist-packages (from camel-ai[all]==0.2.66) (1.11.0)\n",
            "Requirement already satisfied: fastapi>=0.115.11 in /usr/local/lib/python3.11/dist-packages (from camel-ai[all]==0.2.66) (0.115.12)\n",
            "Requirement already satisfied: ffmpeg-python<0.3,>=0.2.0 in /usr/local/lib/python3.11/dist-packages (from camel-ai[all]==0.2.66) (0.2.0)\n",
            "Requirement already satisfied: firecrawl-py<2,>=1.0.0 in /usr/local/lib/python3.11/dist-packages (from camel-ai[all]==0.2.66) (1.17.0)\n",
            "Requirement already satisfied: fish-audio-sdk<2025,>=2024.12.5 in /usr/local/lib/python3.11/dist-packages (from camel-ai[all]==0.2.66) (2024.12.5)\n",
            "Requirement already satisfied: flask>=2.0 in /usr/local/lib/python3.11/dist-packages (from camel-ai[all]==0.2.66) (3.1.1)\n",
            "Requirement already satisfied: fpdf>=1.7.2 in /usr/local/lib/python3.11/dist-packages (from camel-ai[all]==0.2.66) (1.7.2)\n",
            "Requirement already satisfied: google-api-python-client==2.166.0 in /usr/local/lib/python3.11/dist-packages (from camel-ai[all]==0.2.66) (2.166.0)\n",
            "Requirement already satisfied: google-auth-httplib2==0.2.0 in /usr/local/lib/python3.11/dist-packages (from camel-ai[all]==0.2.66) (0.2.0)\n",
            "Requirement already satisfied: google-auth-oauthlib==1.2.1 in /usr/local/lib/python3.11/dist-packages (from camel-ai[all]==0.2.66) (1.2.1)\n",
            "Requirement already satisfied: google-cloud-storage<3,>=2.18.0 in /usr/local/lib/python3.11/dist-packages (from camel-ai[all]==0.2.66) (2.19.0)\n",
            "Requirement already satisfied: google-genai>=1.13.0 in /usr/local/lib/python3.11/dist-packages (from camel-ai[all]==0.2.66) (1.20.0)\n",
            "Requirement already satisfied: googlemaps<5,>=4.10.0 in /usr/local/lib/python3.11/dist-packages (from camel-ai[all]==0.2.66) (4.10.0)\n",
            "Requirement already satisfied: gradio<4,>=3 in /usr/local/lib/python3.11/dist-packages (from camel-ai[all]==0.2.66) (3.36.1)\n",
            "Requirement already satisfied: html2text>=2024.2.26 in /usr/local/lib/python3.11/dist-packages (from camel-ai[all]==0.2.66) (2025.4.15)\n",
            "Requirement already satisfied: ibm-watsonx-ai>=1.3.11 in /usr/local/lib/python3.11/dist-packages (from camel-ai[all]==0.2.66) (1.3.26)\n",
            "Requirement already satisfied: imageio<3,>=2.34.2 in /usr/local/lib/python3.11/dist-packages (from imageio[pyav]<3,>=2.34.2; extra == \"all\"->camel-ai[all]==0.2.66) (2.37.0)\n",
            "Requirement already satisfied: ipykernel<7,>=6.0.0 in /usr/local/lib/python3.11/dist-packages (from camel-ai[all]==0.2.66) (6.17.1)\n",
            "Requirement already satisfied: jupyter-client<9,>=8.6.2 in /usr/local/lib/python3.11/dist-packages (from camel-ai[all]==0.2.66) (8.6.3)\n",
            "Requirement already satisfied: langfuse>=2.60.5 in /usr/local/lib/python3.11/dist-packages (from camel-ai[all]==0.2.66) (3.0.3)\n",
            "Requirement already satisfied: linkup-sdk<0.3,>=0.2.1 in /usr/local/lib/python3.11/dist-packages (from camel-ai[all]==0.2.66) (0.2.6)\n",
            "Requirement already satisfied: litellm<2,>=1.38.1 in /usr/local/lib/python3.11/dist-packages (from camel-ai[all]==0.2.66) (1.72.6.post1)\n",
            "Requirement already satisfied: markitdown==0.1.1 in /usr/local/lib/python3.11/dist-packages (from camel-ai[all]==0.2.66) (0.1.1)\n",
            "Requirement already satisfied: math-verify<0.8,>=0.7.0 in /usr/local/lib/python3.11/dist-packages (from camel-ai[all]==0.2.66) (0.7.0)\n",
            "Requirement already satisfied: mem0ai>=0.1.67 in /usr/local/lib/python3.11/dist-packages (from camel-ai[all]==0.2.66) (0.1.108)\n",
            "Requirement already satisfied: mistralai<2,>=1.1.0 in /usr/local/lib/python3.11/dist-packages (from camel-ai[all]==0.2.66) (1.8.2)\n",
            "Requirement already satisfied: mock<6,>=5 in /usr/local/lib/python3.11/dist-packages (from camel-ai[all]==0.2.66) (5.2.0)\n",
            "Requirement already satisfied: mypy<2,>=1.5.1 in /usr/local/lib/python3.11/dist-packages (from camel-ai[all]==0.2.66) (1.16.1)\n",
            "Requirement already satisfied: nebula3-python==3.8.2 in /usr/local/lib/python3.11/dist-packages (from camel-ai[all]==0.2.66) (3.8.2)\n",
            "Requirement already satisfied: neo4j<6,>=5.18.0 in /usr/local/lib/python3.11/dist-packages (from camel-ai[all]==0.2.66) (5.28.1)\n",
            "Requirement already satisfied: networkx<4,>=3.4.2 in /usr/local/lib/python3.11/dist-packages (from camel-ai[all]==0.2.66) (3.5)\n",
            "Requirement already satisfied: newspaper3k<0.3,>=0.2.8 in /usr/local/lib/python3.11/dist-packages (from camel-ai[all]==0.2.66) (0.2.8)\n",
            "Requirement already satisfied: notion-client<3,>=2.2.1 in /usr/local/lib/python3.11/dist-packages (from camel-ai[all]==0.2.66) (2.4.0)\n",
            "Requirement already satisfied: numpy<=2.2,>=1.2 in /usr/local/lib/python3.11/dist-packages (from camel-ai[all]==0.2.66) (1.26.4)\n",
            "Requirement already satisfied: openapi-spec-validator<0.8,>=0.7.1 in /usr/local/lib/python3.11/dist-packages (from camel-ai[all]==0.2.66) (0.7.2)\n",
            "Requirement already satisfied: openpyxl>=3.1.5 in /usr/local/lib/python3.11/dist-packages (from camel-ai[all]==0.2.66) (3.1.5)\n",
            "Requirement already satisfied: pandas<2,>=1.5.3 in /usr/local/lib/python3.11/dist-packages (from camel-ai[all]==0.2.66) (1.5.3)\n",
            "Requirement already satisfied: pandasai<3,>=2.3.0 in /usr/local/lib/python3.11/dist-packages (from camel-ai[all]==0.2.66) (2.3.0)\n",
            "Requirement already satisfied: playwright>=1.50.0 in /usr/local/lib/python3.11/dist-packages (from camel-ai[all]==0.2.66) (1.52.0)\n",
            "Requirement already satisfied: prance<24,>=23.6.21.0 in /usr/local/lib/python3.11/dist-packages (from camel-ai[all]==0.2.66) (23.6.21.0)\n",
            "Requirement already satisfied: praw<8,>=7.7.1 in /usr/local/lib/python3.11/dist-packages (from camel-ai[all]==0.2.66) (7.8.1)\n",
            "Requirement already satisfied: pre-commit<4,>=3 in /usr/local/lib/python3.11/dist-packages (from camel-ai[all]==0.2.66) (3.8.0)\n",
            "Requirement already satisfied: pyautogui<0.10,>=0.9.54 in /usr/local/lib/python3.11/dist-packages (from camel-ai[all]==0.2.66) (0.9.54)\n",
            "Requirement already satisfied: pydub<0.26,>=0.25.1 in /usr/local/lib/python3.11/dist-packages (from camel-ai[all]==0.2.66) (0.25.1)\n",
            "Requirement already satisfied: pygithub<3,>=2.6.0 in /usr/local/lib/python3.11/dist-packages (from camel-ai[all]==0.2.66) (2.6.1)\n",
            "Requirement already satisfied: pylatex>=1.4.2 in /usr/local/lib/python3.11/dist-packages (from camel-ai[all]==0.2.66) (1.4.2)\n",
            "Requirement already satisfied: pymilvus<3,>=2.4.0 in /usr/local/lib/python3.11/dist-packages (from camel-ai[all]==0.2.66) (2.5.11)\n",
            "Requirement already satisfied: pymupdf<2,>=1.22.5 in /usr/local/lib/python3.11/dist-packages (from camel-ai[all]==0.2.66) (1.26.1)\n",
            "Requirement already satisfied: pyobvector>=0.1.18 in /usr/local/lib/python3.11/dist-packages (from camel-ai[all]==0.2.66) (0.1.18)\n",
            "Requirement already satisfied: pyowm<4,>=3.3.0 in /usr/local/lib/python3.11/dist-packages (from camel-ai[all]==0.2.66) (3.3.0)\n",
            "Requirement already satisfied: pytelegrambotapi<5,>=4.18.0 in /usr/local/lib/python3.11/dist-packages (from camel-ai[all]==0.2.66) (4.27.0)\n",
            "Requirement already satisfied: pytest-asyncio<0.24,>=0.23.0 in /usr/local/lib/python3.11/dist-packages (from camel-ai[all]==0.2.66) (0.23.8)\n",
            "Requirement already satisfied: pytest-cov<5,>=4 in /usr/local/lib/python3.11/dist-packages (from camel-ai[all]==0.2.66) (4.1.0)\n",
            "Requirement already satisfied: pytest<8,>=7 in /usr/local/lib/python3.11/dist-packages (from camel-ai[all]==0.2.66) (7.4.4)\n",
            "Requirement already satisfied: python-pptx>=1.0.2 in /usr/local/lib/python3.11/dist-packages (from camel-ai[all]==0.2.66) (1.0.2)\n",
            "Requirement already satisfied: pytidb-experimental==0.0.1.dev4 in /usr/local/lib/python3.11/dist-packages (from camel-ai[all]==0.2.66) (0.0.1.dev4)\n",
            "Requirement already satisfied: qdrant-client<2,>=1.9.0 in /usr/local/lib/python3.11/dist-packages (from camel-ai[all]==0.2.66) (1.14.3)\n",
            "Requirement already satisfied: rank-bm25<0.3,>=0.2.2 in /usr/local/lib/python3.11/dist-packages (from camel-ai[all]==0.2.66) (0.2.2)\n",
            "Requirement already satisfied: redis<6,>=5.0.6 in /usr/local/lib/python3.11/dist-packages (from camel-ai[all]==0.2.66) (5.3.0)\n",
            "Requirement already satisfied: reka-api<4,>=3.0.8 in /usr/local/lib/python3.11/dist-packages (from camel-ai[all]==0.2.66) (3.2.0)\n",
            "Requirement already satisfied: requests-oauthlib<2,>=1.3.1 in /usr/local/lib/python3.11/dist-packages (from camel-ai[all]==0.2.66) (1.3.1)\n",
            "Requirement already satisfied: rouge<2,>=1.0.1 in /usr/local/lib/python3.11/dist-packages (from camel-ai[all]==0.2.66) (1.0.1)\n",
            "Requirement already satisfied: scenedetect>=0.6.5.2 in /usr/local/lib/python3.11/dist-packages (from camel-ai[all]==0.2.66) (0.6.6)\n",
            "Requirement already satisfied: scholarly==1.7.11 in /usr/local/lib/python3.11/dist-packages (from scholarly[tor]==1.7.11; extra == \"all\"->camel-ai[all]==0.2.66) (1.7.11)\n",
            "Requirement already satisfied: scrapegraph-py<2,>=1.12.0 in /usr/local/lib/python3.11/dist-packages (from camel-ai[all]==0.2.66) (1.12.0)\n",
            "Requirement already satisfied: sentencepiece<0.3,>=0.2 in /usr/local/lib/python3.11/dist-packages (from camel-ai[all]==0.2.66) (0.2.0)\n",
            "Requirement already satisfied: slack-bolt<2,>=1.20.1 in /usr/local/lib/python3.11/dist-packages (from camel-ai[all]==0.2.66) (1.23.0)\n",
            "Requirement already satisfied: slack-sdk<4,>=3.27.2 in /usr/local/lib/python3.11/dist-packages (from camel-ai[all]==0.2.66) (3.35.0)\n",
            "Requirement already satisfied: soundfile<0.14,>=0.13 in /usr/local/lib/python3.11/dist-packages (from camel-ai[all]==0.2.66) (0.13.1)\n",
            "Requirement already satisfied: stripe<12,>=11.3.0 in /usr/local/lib/python3.11/dist-packages (from camel-ai[all]==0.2.66) (11.6.0)\n",
            "Requirement already satisfied: sympy<2,>=1.13.3 in /usr/local/lib/python3.11/dist-packages (from camel-ai[all]==0.2.66) (1.14.0)\n",
            "Requirement already satisfied: tabulate>=0.9.0 in /usr/local/lib/python3.11/dist-packages (from camel-ai[all]==0.2.66) (0.9.0)\n",
            "Requirement already satisfied: tavily-python<0.6,>=0.5.0 in /usr/local/lib/python3.11/dist-packages (from camel-ai[all]==0.2.66) (0.5.4)\n",
            "Requirement already satisfied: textblob<0.18,>=0.17.1 in /usr/local/lib/python3.11/dist-packages (from camel-ai[all]==0.2.66) (0.17.1)\n",
            "Requirement already satisfied: transformers<5,>=4 in /usr/local/lib/python3.11/dist-packages (from camel-ai[all]==0.2.66) (4.52.4)\n",
            "Requirement already satisfied: tree-sitter-python<0.24,>=0.23.6 in /usr/local/lib/python3.11/dist-packages (from camel-ai[all]==0.2.66) (0.23.6)\n",
            "Requirement already satisfied: tree-sitter<0.24,>=0.23.2 in /usr/local/lib/python3.11/dist-packages (from camel-ai[all]==0.2.66) (0.23.2)\n",
            "Requirement already satisfied: typer>=0.15.2 in /usr/local/lib/python3.11/dist-packages (from camel-ai[all]==0.2.66) (0.16.0)\n",
            "Requirement already satisfied: types-colorama<0.5,>=0.4.15 in /usr/local/lib/python3.11/dist-packages (from camel-ai[all]==0.2.66) (0.4.15.20240311)\n",
            "Requirement already satisfied: types-mock<6,>=5.1.0 in /usr/local/lib/python3.11/dist-packages (from camel-ai[all]==0.2.66) (5.2.0.20250516)\n",
            "Requirement already satisfied: types-pyyaml<7,>=6.0.12 in /usr/local/lib/python3.11/dist-packages (from camel-ai[all]==0.2.66) (6.0.12.20250516)\n",
            "Requirement already satisfied: types-requests<3,>=2.31.0 in /usr/local/lib/python3.11/dist-packages (from camel-ai[all]==0.2.66) (2.32.4.20250611)\n",
            "Requirement already satisfied: types-setuptools<70,>=69.2.0 in /usr/local/lib/python3.11/dist-packages (from camel-ai[all]==0.2.66) (69.5.0.20240522)\n",
            "Requirement already satisfied: types-tqdm<5,>=4.66.0 in /usr/local/lib/python3.11/dist-packages (from camel-ai[all]==0.2.66) (4.67.0.20250516)\n",
            "Requirement already satisfied: unstructured==0.16.20 in /usr/local/lib/python3.11/dist-packages (from camel-ai[all]==0.2.66) (0.16.20)\n",
            "Requirement already satisfied: weaviate-client>=4.15.0 in /usr/local/lib/python3.11/dist-packages (from camel-ai[all]==0.2.66) (4.15.1)\n",
            "Requirement already satisfied: wikipedia<2,>=1 in /usr/local/lib/python3.11/dist-packages (from camel-ai[all]==0.2.66) (1.4.0)\n",
            "Requirement already satisfied: wolframalpha<6,>=5.0.0 in /usr/local/lib/python3.11/dist-packages (from camel-ai[all]==0.2.66) (5.1.3)\n",
            "Requirement already satisfied: xls2xlsx>=0.2.0 in /usr/local/lib/python3.11/dist-packages (from camel-ai[all]==0.2.66) (0.2.0)\n",
            "Requirement already satisfied: yt-dlp<2025,>=2024.11.4 in /usr/local/lib/python3.11/dist-packages (from camel-ai[all]==0.2.66) (2024.12.23)\n",
            "Requirement already satisfied: environs<10.0.0,>=9.5.0 in /usr/local/lib/python3.11/dist-packages (from daytona-sdk==0.14.0->camel-ai[all]==0.2.66) (9.5.0)\n",
            "Requirement already satisfied: marshmallow<4.0.0,>=3.19.0 in /usr/local/lib/python3.11/dist-packages (from daytona-sdk==0.14.0->camel-ai[all]==0.2.66) (3.26.1)\n",
            "Requirement already satisfied: python-dateutil<3.0.0,>=2.8.2 in /usr/local/lib/python3.11/dist-packages (from daytona-sdk==0.14.0->camel-ai[all]==0.2.66) (2.9.0.post0)\n",
            "Requirement already satisfied: urllib3<3.0.0,>=2.0.7 in /usr/local/lib/python3.11/dist-packages (from daytona-sdk==0.14.0->camel-ai[all]==0.2.66) (2.4.0)\n",
            "Requirement already satisfied: daytona_api_client<1.0.0,>=0.16.0 in /usr/local/lib/python3.11/dist-packages (from daytona-sdk==0.14.0->camel-ai[all]==0.2.66) (0.21.0)\n",
            "Requirement already satisfied: Deprecated<2.0.0,>=1.2.18 in /usr/local/lib/python3.11/dist-packages (from daytona-sdk==0.14.0->camel-ai[all]==0.2.66) (1.2.18)\n",
            "Requirement already satisfied: httplib2<1.0.0,>=0.19.0 in /usr/local/lib/python3.11/dist-packages (from google-api-python-client==2.166.0->camel-ai[all]==0.2.66) (0.22.0)\n",
            "Requirement already satisfied: google-auth!=2.24.0,!=2.25.0,<3.0.0,>=1.32.0 in /usr/local/lib/python3.11/dist-packages (from google-api-python-client==2.166.0->camel-ai[all]==0.2.66) (2.38.0)\n",
            "Requirement already satisfied: google-api-core!=2.0.*,!=2.1.*,!=2.2.*,!=2.3.0,<3.0.0,>=1.31.5 in /usr/local/lib/python3.11/dist-packages (from google-api-python-client==2.166.0->camel-ai[all]==0.2.66) (2.25.0)\n",
            "Requirement already satisfied: uritemplate<5,>=3.0.1 in /usr/local/lib/python3.11/dist-packages (from google-api-python-client==2.166.0->camel-ai[all]==0.2.66) (4.2.0)\n",
            "Requirement already satisfied: charset-normalizer in /usr/local/lib/python3.11/dist-packages (from markitdown==0.1.1->camel-ai[all]==0.2.66) (3.4.2)\n",
            "Requirement already satisfied: magika~=0.6.1 in /usr/local/lib/python3.11/dist-packages (from markitdown==0.1.1->camel-ai[all]==0.2.66) (0.6.2)\n",
            "Requirement already satisfied: markdownify in /usr/local/lib/python3.11/dist-packages (from markitdown==0.1.1->camel-ai[all]==0.2.66) (1.1.0)\n",
            "Requirement already satisfied: requests in /usr/local/lib/python3.11/dist-packages (from markitdown==0.1.1->camel-ai[all]==0.2.66) (2.32.4)\n",
            "Requirement already satisfied: future>=0.18.0 in /usr/local/lib/python3.11/dist-packages (from nebula3-python==3.8.2->camel-ai[all]==0.2.66) (1.0.0)\n",
            "Requirement already satisfied: pytz>=2021.1 in /usr/local/lib/python3.11/dist-packages (from nebula3-python==3.8.2->camel-ai[all]==0.2.66) (2025.2)\n",
            "Requirement already satisfied: six>=1.16.0 in /usr/local/lib/python3.11/dist-packages (from nebula3-python==3.8.2->camel-ai[all]==0.2.66) (1.17.0)\n",
            "Requirement already satisfied: pymysql>=1.1.1 in /usr/local/lib/python3.11/dist-packages (from pytidb-experimental==0.0.1.dev4->camel-ai[all]==0.2.66) (1.1.1)\n",
            "Requirement already satisfied: sqlmodel==0.0.22 in /usr/local/lib/python3.11/dist-packages (from pytidb-experimental==0.0.1.dev4->camel-ai[all]==0.2.66) (0.0.22)\n",
            "Requirement already satisfied: tidb-vector>=0.0.14 in /usr/local/lib/python3.11/dist-packages (from pytidb-experimental==0.0.1.dev4->camel-ai[all]==0.2.66) (0.0.14)\n",
            "Requirement already satisfied: arrow in /usr/local/lib/python3.11/dist-packages (from scholarly==1.7.11->scholarly[tor]==1.7.11; extra == \"all\"->camel-ai[all]==0.2.66) (1.3.0)\n",
            "Requirement already satisfied: bibtexparser in /usr/local/lib/python3.11/dist-packages (from scholarly==1.7.11->scholarly[tor]==1.7.11; extra == \"all\"->camel-ai[all]==0.2.66) (1.4.3)\n",
            "Requirement already satisfied: fake-useragent in /usr/local/lib/python3.11/dist-packages (from scholarly==1.7.11->scholarly[tor]==1.7.11; extra == \"all\"->camel-ai[all]==0.2.66) (2.2.0)\n",
            "Requirement already satisfied: free-proxy in /usr/local/lib/python3.11/dist-packages (from scholarly==1.7.11->scholarly[tor]==1.7.11; extra == \"all\"->camel-ai[all]==0.2.66) (1.1.3)\n",
            "Requirement already satisfied: python-dotenv in /usr/local/lib/python3.11/dist-packages (from scholarly==1.7.11->scholarly[tor]==1.7.11; extra == \"all\"->camel-ai[all]==0.2.66) (1.1.0)\n",
            "Requirement already satisfied: selenium in /usr/local/lib/python3.11/dist-packages (from scholarly==1.7.11->scholarly[tor]==1.7.11; extra == \"all\"->camel-ai[all]==0.2.66) (4.33.0)\n",
            "Requirement already satisfied: sphinx-rtd-theme in /usr/local/lib/python3.11/dist-packages (from scholarly==1.7.11->scholarly[tor]==1.7.11; extra == \"all\"->camel-ai[all]==0.2.66) (3.0.2)\n",
            "Requirement already satisfied: typing-extensions in /usr/local/lib/python3.11/dist-packages (from scholarly==1.7.11->scholarly[tor]==1.7.11; extra == \"all\"->camel-ai[all]==0.2.66) (4.13.2)\n",
            "Requirement already satisfied: stem in /usr/local/lib/python3.11/dist-packages (from scholarly[tor]==1.7.11; extra == \"all\"->camel-ai[all]==0.2.66) (1.8.2)\n",
            "Requirement already satisfied: chardet in /usr/local/lib/python3.11/dist-packages (from unstructured==0.16.20->camel-ai[all]==0.2.66) (5.2.0)\n",
            "Requirement already satisfied: filetype in /usr/local/lib/python3.11/dist-packages (from unstructured==0.16.20->camel-ai[all]==0.2.66) (1.2.0)\n",
            "Requirement already satisfied: python-magic in /usr/local/lib/python3.11/dist-packages (from unstructured==0.16.20->camel-ai[all]==0.2.66) (0.4.27)\n",
            "Requirement already satisfied: lxml in /usr/local/lib/python3.11/dist-packages (from unstructured==0.16.20->camel-ai[all]==0.2.66) (5.4.0)\n",
            "Requirement already satisfied: nltk in /usr/local/lib/python3.11/dist-packages (from unstructured==0.16.20->camel-ai[all]==0.2.66) (3.9.1)\n",
            "Requirement already satisfied: emoji in /usr/local/lib/python3.11/dist-packages (from unstructured==0.16.20->camel-ai[all]==0.2.66) (2.14.1)\n",
            "Requirement already satisfied: dataclasses-json in /usr/local/lib/python3.11/dist-packages (from unstructured==0.16.20->camel-ai[all]==0.2.66) (0.6.7)\n",
            "Requirement already satisfied: python-iso639 in /usr/local/lib/python3.11/dist-packages (from unstructured==0.16.20->camel-ai[all]==0.2.66) (2025.2.18)\n",
            "Requirement already satisfied: langdetect in /usr/local/lib/python3.11/dist-packages (from unstructured==0.16.20->camel-ai[all]==0.2.66) (1.0.9)\n",
            "Requirement already satisfied: rapidfuzz in /usr/local/lib/python3.11/dist-packages (from unstructured==0.16.20->camel-ai[all]==0.2.66) (3.13.0)\n",
            "Requirement already satisfied: backoff in /usr/local/lib/python3.11/dist-packages (from unstructured==0.16.20->camel-ai[all]==0.2.66) (2.2.1)\n",
            "Requirement already satisfied: unstructured-client in /usr/local/lib/python3.11/dist-packages (from unstructured==0.16.20->camel-ai[all]==0.2.66) (0.36.0)\n",
            "Requirement already satisfied: wrapt in /usr/local/lib/python3.11/dist-packages (from unstructured==0.16.20->camel-ai[all]==0.2.66) (1.17.2)\n",
            "Requirement already satisfied: tqdm in /usr/local/lib/python3.11/dist-packages (from unstructured==0.16.20->camel-ai[all]==0.2.66) (4.67.1)\n",
            "Requirement already satisfied: python-oxmsg in /usr/local/lib/python3.11/dist-packages (from unstructured==0.16.20->camel-ai[all]==0.2.66) (0.0.2)\n",
            "Requirement already satisfied: html5lib in /usr/local/lib/python3.11/dist-packages (from unstructured==0.16.20->camel-ai[all]==0.2.66) (1.1)\n",
            "Requirement already satisfied: SQLAlchemy<2.1.0,>=2.0.14 in /usr/local/lib/python3.11/dist-packages (from sqlmodel==0.0.22->pytidb-experimental==0.0.1.dev4->camel-ai[all]==0.2.66) (2.0.35)\n",
            "Requirement already satisfied: griffe>=1.7.2 in /usr/local/lib/python3.11/dist-packages (from aci-sdk>=1.0.0b1->camel-ai[all]==0.2.66) (1.7.3)\n",
            "Requirement already satisfied: tenacity>=9.1.2 in /usr/local/lib/python3.11/dist-packages (from aci-sdk>=1.0.0b1->camel-ai[all]==0.2.66) (9.1.2)\n",
            "Requirement already satisfied: opentelemetry-api>=1.27.0 in /usr/local/lib/python3.11/dist-packages (from agentops<0.4,>=0.3.21->camel-ai[all]==0.2.66) (1.34.1)\n",
            "Requirement already satisfied: opentelemetry-exporter-otlp-proto-http>=1.27.0 in /usr/local/lib/python3.11/dist-packages (from agentops<0.4,>=0.3.21->camel-ai[all]==0.2.66) (1.34.1)\n",
            "Requirement already satisfied: opentelemetry-sdk>=1.27.0 in /usr/local/lib/python3.11/dist-packages (from agentops<0.4,>=0.3.21->camel-ai[all]==0.2.66) (1.34.1)\n",
            "Requirement already satisfied: packaging<25.0,>=21.0 in /usr/local/lib/python3.11/dist-packages (from agentops<0.4,>=0.3.21->camel-ai[all]==0.2.66) (24.2)\n",
            "Requirement already satisfied: pyyaml<7.0,>=5.3 in /usr/local/lib/python3.11/dist-packages (from agentops<0.4,>=0.3.21->camel-ai[all]==0.2.66) (6.0.2)\n",
            "Requirement already satisfied: termcolor<2.5.0,>=2.3.0 in /usr/local/lib/python3.11/dist-packages (from agentops<0.4,>=0.3.21->camel-ai[all]==0.2.66) (2.4.0)\n",
            "Requirement already satisfied: anyio<5,>=3.5.0 in /usr/local/lib/python3.11/dist-packages (from anthropic<0.50.0,>=0.47.0->camel-ai[all]==0.2.66) (4.9.0)\n",
            "Requirement already satisfied: distro<2,>=1.7.0 in /usr/local/lib/python3.11/dist-packages (from anthropic<0.50.0,>=0.47.0->camel-ai[all]==0.2.66) (1.9.0)\n",
            "Requirement already satisfied: jiter<1,>=0.4.0 in /usr/local/lib/python3.11/dist-packages (from anthropic<0.50.0,>=0.47.0->camel-ai[all]==0.2.66) (0.10.0)\n",
            "Requirement already satisfied: sniffio in /usr/local/lib/python3.11/dist-packages (from anthropic<0.50.0,>=0.47.0->camel-ai[all]==0.2.66) (1.3.1)\n",
            "Requirement already satisfied: apify-shared>=1.4.1 in /usr/local/lib/python3.11/dist-packages (from apify-client<2,>=1.8.1->camel-ai[all]==0.2.66) (1.4.1)\n",
            "Requirement already satisfied: more-itertools>=10.0.0 in /usr/local/lib/python3.11/dist-packages (from apify-client<2,>=1.8.1->camel-ai[all]==0.2.66) (10.7.0)\n",
            "Requirement already satisfied: feedparser~=6.0.10 in /usr/local/lib/python3.11/dist-packages (from arxiv<3,>=2.1.3->camel-ai[all]==0.2.66) (6.0.11)\n",
            "Requirement already satisfied: pdfminer-six in /usr/local/lib/python3.11/dist-packages (from arxiv2text<0.2,>=0.1.14->camel-ai[all]==0.2.66) (20250506)\n",
            "Requirement already satisfied: scikit-learn in /usr/local/lib/python3.11/dist-packages (from arxiv2text<0.2,>=0.1.14->camel-ai[all]==0.2.66) (1.6.1)\n",
            "Requirement already satisfied: PyPDF2 in /usr/local/lib/python3.11/dist-packages (from arxiv2text<0.2,>=0.1.14->camel-ai[all]==0.2.66) (3.0.1)\n",
            "Requirement already satisfied: azure-core>=1.30.0 in /usr/local/lib/python3.11/dist-packages (from azure-storage-blob<13,>=12.21.0->camel-ai[all]==0.2.66) (1.34.0)\n",
            "Requirement already satisfied: cryptography>=2.1.4 in /usr/local/lib/python3.11/dist-packages (from azure-storage-blob<13,>=12.21.0->camel-ai[all]==0.2.66) (43.0.3)\n",
            "Requirement already satisfied: isodate>=0.6.1 in /usr/local/lib/python3.11/dist-packages (from azure-storage-blob<13,>=12.21.0->camel-ai[all]==0.2.66) (0.7.2)\n",
            "Requirement already satisfied: soupsieve>1.2 in /usr/local/lib/python3.11/dist-packages (from beautifulsoup4<5,>=4->camel-ai[all]==0.2.66) (2.7)\n",
            "Requirement already satisfied: jmespath<2.0.0,>=0.7.1 in /usr/local/lib/python3.11/dist-packages (from botocore<2,>=1.35.3->camel-ai[all]==0.2.66) (1.0.1)\n",
            "Requirement already satisfied: nest-asyncio>=1.6.0 in /usr/local/lib/python3.11/dist-packages (from chunkr-ai>=0.0.50->camel-ai[all]==0.2.66) (1.6.0)\n",
            "Requirement already satisfied: fastavro<2.0.0,>=1.9.4 in /usr/local/lib/python3.11/dist-packages (from cohere<6,>=5.11.0->camel-ai[all]==0.2.66) (1.11.1)\n",
            "Requirement already satisfied: httpx-sse==0.4.0 in /usr/local/lib/python3.11/dist-packages (from cohere<6,>=5.11.0->camel-ai[all]==0.2.66) (0.4.0)\n",
            "Requirement already satisfied: pydantic-core<3.0.0,>=2.18.2 in /usr/local/lib/python3.11/dist-packages (from cohere<6,>=5.11.0->camel-ai[all]==0.2.66) (2.33.2)\n",
            "Requirement already satisfied: tokenizers<1,>=0.15 in /usr/local/lib/python3.11/dist-packages (from cohere<6,>=5.11.0->camel-ai[all]==0.2.66) (0.21.1)\n",
            "Requirement already satisfied: tf-playwright-stealth>=1.1.0 in /usr/local/lib/python3.11/dist-packages (from crawl4ai>=0.3.745->camel-ai[all]==0.2.66) (1.2.0)\n",
            "Requirement already satisfied: xxhash~=3.4 in /usr/local/lib/python3.11/dist-packages (from crawl4ai>=0.3.745->camel-ai[all]==0.2.66) (3.5.0)\n",
            "Requirement already satisfied: aiofiles>=24.1.0 in /usr/local/lib/python3.11/dist-packages (from crawl4ai>=0.3.745->camel-ai[all]==0.2.66) (24.1.0)\n",
            "Requirement already satisfied: snowballstemmer~=2.2 in /usr/local/lib/python3.11/dist-packages (from crawl4ai>=0.3.745->camel-ai[all]==0.2.66) (2.2.0)\n",
            "Requirement already satisfied: pyOpenSSL>=24.3.0 in /usr/local/lib/python3.11/dist-packages (from crawl4ai>=0.3.745->camel-ai[all]==0.2.66) (25.1.0)\n",
            "Requirement already satisfied: asyncio<4.0.0,>=3.4.3 in /usr/local/lib/python3.11/dist-packages (from dappier<0.4,>=0.3.3->camel-ai[all]==0.2.66) (3.4.3)\n",
            "Requirement already satisfied: filelock in /usr/local/lib/python3.11/dist-packages (from datasets<4,>=3->camel-ai[all]==0.2.66) (3.18.0)\n",
            "Requirement already satisfied: pyarrow>=15.0.0 in /usr/local/lib/python3.11/dist-packages (from datasets<4,>=3->camel-ai[all]==0.2.66) (18.1.0)\n",
            "Requirement already satisfied: dill<0.3.9,>=0.3.0 in /usr/local/lib/python3.11/dist-packages (from datasets<4,>=3->camel-ai[all]==0.2.66) (0.3.7)\n",
            "Requirement already satisfied: multiprocess<0.70.17 in /usr/local/lib/python3.11/dist-packages (from datasets<4,>=3->camel-ai[all]==0.2.66) (0.70.15)\n",
            "Requirement already satisfied: fsspec<=2025.3.0,>=2023.1.0 in /usr/local/lib/python3.11/dist-packages (from fsspec[http]<=2025.3.0,>=2023.1.0->datasets<4,>=3->camel-ai[all]==0.2.66) (2025.3.0)\n",
            "Requirement already satisfied: huggingface-hub>=0.24.0 in /usr/local/lib/python3.11/dist-packages (from datasets<4,>=3->camel-ai[all]==0.2.66) (0.33.0)\n",
            "Requirement already satisfied: importlib-metadata in /usr/local/lib/python3.11/dist-packages (from diffusers<0.26,>=0.25.0->camel-ai[all]==0.2.66) (8.7.0)\n",
            "Requirement already satisfied: regex!=2019.12.17 in /usr/local/lib/python3.11/dist-packages (from diffusers<0.26,>=0.25.0->camel-ai[all]==0.2.66) (2024.11.6)\n",
            "Requirement already satisfied: safetensors>=0.3.1 in /usr/local/lib/python3.11/dist-packages (from diffusers<0.26,>=0.25.0->camel-ai[all]==0.2.66) (0.5.3)\n",
            "Requirement already satisfied: aiohttp<4,>=3.7.4 in /usr/local/lib/python3.11/dist-packages (from discord-py<3,>=2.3.2->camel-ai[all]==0.2.66) (3.11.15)\n",
            "Requirement already satisfied: click>=8.1.7 in /usr/local/lib/python3.11/dist-packages (from duckduckgo-search<7,>=6.3.5->camel-ai[all]==0.2.66) (8.2.1)\n",
            "Requirement already satisfied: primp>=0.9.1 in /usr/local/lib/python3.11/dist-packages (from duckduckgo-search<7,>=6.3.5->camel-ai[all]==0.2.66) (0.15.0)\n",
            "Requirement already satisfied: attrs>=21.3.0 in /usr/local/lib/python3.11/dist-packages (from e2b-code-interpreter<2,>=1.0.3->camel-ai[all]==0.2.66) (25.3.0)\n",
            "Requirement already satisfied: e2b<2.0.0,>=1.4.0 in /usr/local/lib/python3.11/dist-packages (from e2b-code-interpreter<2,>=1.0.3->camel-ai[all]==0.2.66) (1.5.2)\n",
            "Requirement already satisfied: starlette<0.47.0,>=0.40.0 in /usr/local/lib/python3.11/dist-packages (from fastapi>=0.115.11->camel-ai[all]==0.2.66) (0.46.2)\n",
            "Requirement already satisfied: websockets in /usr/local/lib/python3.11/dist-packages (from firecrawl-py<2,>=1.0.0->camel-ai[all]==0.2.66) (15.0.1)\n",
            "Requirement already satisfied: ormsgpack>=1.5.0 in /usr/local/lib/python3.11/dist-packages (from fish-audio-sdk<2025,>=2024.12.5->camel-ai[all]==0.2.66) (1.10.0)\n",
            "Requirement already satisfied: httpx-ws>=0.6.2 in /usr/local/lib/python3.11/dist-packages (from fish-audio-sdk<2025,>=2024.12.5->camel-ai[all]==0.2.66) (0.7.2)\n",
            "Requirement already satisfied: blinker>=1.9.0 in /usr/local/lib/python3.11/dist-packages (from flask>=2.0->camel-ai[all]==0.2.66) (1.9.0)\n",
            "Requirement already satisfied: itsdangerous>=2.2.0 in /usr/local/lib/python3.11/dist-packages (from flask>=2.0->camel-ai[all]==0.2.66) (2.2.0)\n",
            "Requirement already satisfied: jinja2>=3.1.2 in /usr/local/lib/python3.11/dist-packages (from flask>=2.0->camel-ai[all]==0.2.66) (3.1.6)\n",
            "Requirement already satisfied: markupsafe>=2.1.1 in /usr/local/lib/python3.11/dist-packages (from flask>=2.0->camel-ai[all]==0.2.66) (3.0.2)\n",
            "Requirement already satisfied: werkzeug>=3.1.0 in /usr/local/lib/python3.11/dist-packages (from flask>=2.0->camel-ai[all]==0.2.66) (3.1.3)\n",
            "Requirement already satisfied: google-cloud-core<3.0dev,>=2.3.0 in /usr/local/lib/python3.11/dist-packages (from google-cloud-storage<3,>=2.18.0->camel-ai[all]==0.2.66) (2.4.3)\n",
            "Requirement already satisfied: google-resumable-media>=2.7.2 in /usr/local/lib/python3.11/dist-packages (from google-cloud-storage<3,>=2.18.0->camel-ai[all]==0.2.66) (2.7.2)\n",
            "Requirement already satisfied: google-crc32c<2.0dev,>=1.0 in /usr/local/lib/python3.11/dist-packages (from google-cloud-storage<3,>=2.18.0->camel-ai[all]==0.2.66) (1.7.1)\n",
            "Requirement already satisfied: altair>=4.2.0 in /usr/local/lib/python3.11/dist-packages (from gradio<4,>=3->camel-ai[all]==0.2.66) (5.5.0)\n",
            "Requirement already satisfied: ffmpy in /usr/local/lib/python3.11/dist-packages (from gradio<4,>=3->camel-ai[all]==0.2.66) (0.6.0)\n",
            "Requirement already satisfied: gradio-client>=0.2.7 in /usr/local/lib/python3.11/dist-packages (from gradio<4,>=3->camel-ai[all]==0.2.66) (1.10.1)\n",
            "Requirement already satisfied: markdown-it-py>=2.0.0 in /usr/local/lib/python3.11/dist-packages (from markdown-it-py[linkify]>=2.0.0->gradio<4,>=3->camel-ai[all]==0.2.66) (2.2.0)\n",
            "Requirement already satisfied: matplotlib in /usr/local/lib/python3.11/dist-packages (from gradio<4,>=3->camel-ai[all]==0.2.66) (3.10.0)\n",
            "Requirement already satisfied: mdit-py-plugins<=0.3.3 in /usr/local/lib/python3.11/dist-packages (from gradio<4,>=3->camel-ai[all]==0.2.66) (0.3.3)\n",
            "Requirement already satisfied: orjson in /usr/local/lib/python3.11/dist-packages (from gradio<4,>=3->camel-ai[all]==0.2.66) (3.10.18)\n",
            "Requirement already satisfied: pygments>=2.12.0 in /usr/local/lib/python3.11/dist-packages (from gradio<4,>=3->camel-ai[all]==0.2.66) (2.19.1)\n",
            "Requirement already satisfied: python-multipart in /usr/local/lib/python3.11/dist-packages (from gradio<4,>=3->camel-ai[all]==0.2.66) (0.0.20)\n",
            "Requirement already satisfied: semantic-version in /usr/local/lib/python3.11/dist-packages (from gradio<4,>=3->camel-ai[all]==0.2.66) (2.10.0)\n",
            "Requirement already satisfied: uvicorn>=0.14.0 in /usr/local/lib/python3.11/dist-packages (from gradio<4,>=3->camel-ai[all]==0.2.66) (0.34.3)\n",
            "Requirement already satisfied: certifi in /usr/local/lib/python3.11/dist-packages (from httpx<1.0.0dev,>=0.28.0->camel-ai==0.2.66->camel-ai[all]==0.2.66) (2025.4.26)\n",
            "Requirement already satisfied: httpcore==1.* in /usr/local/lib/python3.11/dist-packages (from httpx<1.0.0dev,>=0.28.0->camel-ai==0.2.66->camel-ai[all]==0.2.66) (1.0.9)\n",
            "Requirement already satisfied: idna in /usr/local/lib/python3.11/dist-packages (from httpx<1.0.0dev,>=0.28.0->camel-ai==0.2.66->camel-ai[all]==0.2.66) (3.10)\n",
            "Requirement already satisfied: h11>=0.16 in /usr/local/lib/python3.11/dist-packages (from httpcore==1.*->httpx<1.0.0dev,>=0.28.0->camel-ai==0.2.66->camel-ai[all]==0.2.66) (0.16.0)\n",
            "Requirement already satisfied: lomond in /usr/local/lib/python3.11/dist-packages (from ibm-watsonx-ai>=1.3.11->camel-ai[all]==0.2.66) (0.3.3)\n",
            "Requirement already satisfied: ibm-cos-sdk<2.15.0,>=2.12.0 in /usr/local/lib/python3.11/dist-packages (from ibm-watsonx-ai>=1.3.11->camel-ai[all]==0.2.66) (2.14.2)\n",
            "Requirement already satisfied: av in /usr/local/lib/python3.11/dist-packages (from imageio[pyav]<3,>=2.34.2; extra == \"all\"->camel-ai[all]==0.2.66) (14.4.0)\n",
            "Requirement already satisfied: debugpy>=1.0 in /usr/local/lib/python3.11/dist-packages (from ipykernel<7,>=6.0.0->camel-ai[all]==0.2.66) (1.8.0)\n",
            "Requirement already satisfied: ipython>=7.23.1 in /usr/local/lib/python3.11/dist-packages (from ipykernel<7,>=6.0.0->camel-ai[all]==0.2.66) (7.34.0)\n",
            "Requirement already satisfied: matplotlib-inline>=0.1 in /usr/local/lib/python3.11/dist-packages (from ipykernel<7,>=6.0.0->camel-ai[all]==0.2.66) (0.1.7)\n",
            "Requirement already satisfied: pyzmq>=17 in /usr/local/lib/python3.11/dist-packages (from ipykernel<7,>=6.0.0->camel-ai[all]==0.2.66) (24.0.1)\n",
            "Requirement already satisfied: tornado>=6.1 in /usr/local/lib/python3.11/dist-packages (from ipykernel<7,>=6.0.0->camel-ai[all]==0.2.66) (6.4.2)\n",
            "Requirement already satisfied: traitlets>=5.1.0 in /usr/local/lib/python3.11/dist-packages (from ipykernel<7,>=6.0.0->camel-ai[all]==0.2.66) (5.7.1)\n",
            "Requirement already satisfied: jsonschema-specifications>=2023.03.6 in /usr/local/lib/python3.11/dist-packages (from jsonschema<5,>=4->camel-ai==0.2.66->camel-ai[all]==0.2.66) (2025.4.1)\n",
            "Requirement already satisfied: referencing>=0.28.4 in /usr/local/lib/python3.11/dist-packages (from jsonschema<5,>=4->camel-ai==0.2.66->camel-ai[all]==0.2.66) (0.36.2)\n",
            "Requirement already satisfied: rpds-py>=0.7.1 in /usr/local/lib/python3.11/dist-packages (from jsonschema<5,>=4->camel-ai==0.2.66->camel-ai[all]==0.2.66) (0.25.1)\n",
            "Requirement already satisfied: jupyter-core!=5.0.*,>=4.12 in /usr/local/lib/python3.11/dist-packages (from jupyter-client<9,>=8.6.2->camel-ai[all]==0.2.66) (5.8.1)\n",
            "Requirement already satisfied: opentelemetry-exporter-otlp<2.0.0,>=1.33.1 in /usr/local/lib/python3.11/dist-packages (from langfuse>=2.60.5->camel-ai[all]==0.2.66) (1.34.1)\n",
            "Requirement already satisfied: latex2sympy2_extended==1.10.1 in /usr/local/lib/python3.11/dist-packages (from math-verify<0.8,>=0.7.0->camel-ai[all]==0.2.66) (1.10.1)\n",
            "Requirement already satisfied: antlr4-python3-runtime<=4.13.2,>=4.9.3 in /usr/local/lib/python3.11/dist-packages (from latex2sympy2_extended==1.10.1->math-verify<0.8,>=0.7.0->camel-ai[all]==0.2.66) (4.9.3)\n",
            "Requirement already satisfied: pydantic-settings>=2.5.2 in /usr/local/lib/python3.11/dist-packages (from mcp>=1.3.0->camel-ai==0.2.66->camel-ai[all]==0.2.66) (2.9.1)\n",
            "Requirement already satisfied: sse-starlette>=1.6.1 in /usr/local/lib/python3.11/dist-packages (from mcp>=1.3.0->camel-ai==0.2.66->camel-ai[all]==0.2.66) (2.3.6)\n",
            "Requirement already satisfied: posthog>=3.5.0 in /usr/local/lib/python3.11/dist-packages (from mem0ai>=0.1.67->camel-ai[all]==0.2.66) (5.0.0)\n",
            "Requirement already satisfied: eval-type-backport>=0.2.0 in /usr/local/lib/python3.11/dist-packages (from mistralai<2,>=1.1.0->camel-ai[all]==0.2.66) (0.2.2)\n",
            "Requirement already satisfied: typing-inspection>=0.4.0 in /usr/local/lib/python3.11/dist-packages (from mistralai<2,>=1.1.0->camel-ai[all]==0.2.66) (0.4.1)\n",
            "Requirement already satisfied: mypy_extensions>=1.0.0 in /usr/local/lib/python3.11/dist-packages (from mypy<2,>=1.5.1->camel-ai[all]==0.2.66) (1.1.0)\n",
            "Requirement already satisfied: pathspec>=0.9.0 in /usr/local/lib/python3.11/dist-packages (from mypy<2,>=1.5.1->camel-ai[all]==0.2.66) (0.12.1)\n",
            "Requirement already satisfied: cssselect>=0.9.2 in /usr/local/lib/python3.11/dist-packages (from newspaper3k<0.3,>=0.2.8->camel-ai[all]==0.2.66) (1.3.0)\n",
            "Requirement already satisfied: tldextract>=2.0.1 in /usr/local/lib/python3.11/dist-packages (from newspaper3k<0.3,>=0.2.8->camel-ai[all]==0.2.66) (5.3.0)\n",
            "Requirement already satisfied: feedfinder2>=0.0.4 in /usr/local/lib/python3.11/dist-packages (from newspaper3k<0.3,>=0.2.8->camel-ai[all]==0.2.66) (0.0.4)\n",
            "Requirement already satisfied: jieba3k>=0.35.1 in /usr/local/lib/python3.11/dist-packages (from newspaper3k<0.3,>=0.2.8->camel-ai[all]==0.2.66) (0.35.1)\n",
            "Requirement already satisfied: tinysegmenter==0.3 in /usr/local/lib/python3.11/dist-packages (from newspaper3k<0.3,>=0.2.8->camel-ai[all]==0.2.66) (0.3)\n",
            "Requirement already satisfied: jsonschema-path<0.4.0,>=0.3.1 in /usr/local/lib/python3.11/dist-packages (from openapi-spec-validator<0.8,>=0.7.1->camel-ai[all]==0.2.66) (0.3.4)\n",
            "Requirement already satisfied: lazy-object-proxy<2.0.0,>=1.7.1 in /usr/local/lib/python3.11/dist-packages (from openapi-spec-validator<0.8,>=0.7.1->camel-ai[all]==0.2.66) (1.11.0)\n",
            "Requirement already satisfied: openapi-schema-validator<0.7.0,>=0.6.0 in /usr/local/lib/python3.11/dist-packages (from openapi-spec-validator<0.8,>=0.7.1->camel-ai[all]==0.2.66) (0.6.3)\n",
            "Requirement already satisfied: et-xmlfile in /usr/local/lib/python3.11/dist-packages (from openpyxl>=3.1.5->camel-ai[all]==0.2.66) (2.0.0)\n",
            "Requirement already satisfied: astor<0.9.0,>=0.8.1 in /usr/local/lib/python3.11/dist-packages (from pandasai<3,>=2.3.0->camel-ai[all]==0.2.66) (0.8.1)\n",
            "Requirement already satisfied: duckdb<2.0.0,>=1.0.0 in /usr/local/lib/python3.11/dist-packages (from pandasai<3,>=2.3.0->camel-ai[all]==0.2.66) (1.2.2)\n",
            "Requirement already satisfied: faker<20.0.0,>=19.12.0 in /usr/local/lib/python3.11/dist-packages (from pandasai<3,>=2.3.0->camel-ai[all]==0.2.66) (19.13.0)\n",
            "Requirement already satisfied: scipy<2.0.0,>=1.9.0 in /usr/local/lib/python3.11/dist-packages (from pandasai<3,>=2.3.0->camel-ai[all]==0.2.66) (1.15.3)\n",
            "Requirement already satisfied: sqlglot<26.0.0,>=25.0.3 in /usr/local/lib/python3.11/dist-packages (from sqlglot[rs]<26.0.0,>=25.0.3->pandasai<3,>=2.3.0->camel-ai[all]==0.2.66) (25.20.2)\n",
            "Requirement already satisfied: pyee<14,>=13 in /usr/local/lib/python3.11/dist-packages (from playwright>=1.50.0->camel-ai[all]==0.2.66) (13.0.0)\n",
            "Requirement already satisfied: greenlet<4.0.0,>=3.1.1 in /usr/local/lib/python3.11/dist-packages (from playwright>=1.50.0->camel-ai[all]==0.2.66) (3.2.3)\n",
            "Requirement already satisfied: ruamel.yaml>=0.17.10 in /usr/local/lib/python3.11/dist-packages (from prance<24,>=23.6.21.0->camel-ai[all]==0.2.66) (0.18.14)\n",
            "Requirement already satisfied: prawcore<3,>=2.4 in /usr/local/lib/python3.11/dist-packages (from praw<8,>=7.7.1->camel-ai[all]==0.2.66) (2.4.0)\n",
            "Requirement already satisfied: update_checker>=0.18 in /usr/local/lib/python3.11/dist-packages (from praw<8,>=7.7.1->camel-ai[all]==0.2.66) (0.18.0)\n",
            "Requirement already satisfied: websocket-client>=0.54.0 in /usr/local/lib/python3.11/dist-packages (from praw<8,>=7.7.1->camel-ai[all]==0.2.66) (1.8.0)\n",
            "Requirement already satisfied: cfgv>=2.0.0 in /usr/local/lib/python3.11/dist-packages (from pre-commit<4,>=3->camel-ai[all]==0.2.66) (3.4.0)\n",
            "Requirement already satisfied: identify>=1.0.0 in /usr/local/lib/python3.11/dist-packages (from pre-commit<4,>=3->camel-ai[all]==0.2.66) (2.6.12)\n",
            "Requirement already satisfied: nodeenv>=0.11.1 in /usr/local/lib/python3.11/dist-packages (from pre-commit<4,>=3->camel-ai[all]==0.2.66) (1.9.1)\n",
            "Requirement already satisfied: virtualenv>=20.10.0 in /usr/local/lib/python3.11/dist-packages (from pre-commit<4,>=3->camel-ai[all]==0.2.66) (20.31.2)\n",
            "Requirement already satisfied: python3-Xlib in /usr/local/lib/python3.11/dist-packages (from pyautogui<0.10,>=0.9.54->camel-ai[all]==0.2.66) (0.15)\n",
            "Requirement already satisfied: pymsgbox in /usr/local/lib/python3.11/dist-packages (from pyautogui<0.10,>=0.9.54->camel-ai[all]==0.2.66) (1.0.9)\n",
            "Requirement already satisfied: pytweening>=1.0.4 in /usr/local/lib/python3.11/dist-packages (from pyautogui<0.10,>=0.9.54->camel-ai[all]==0.2.66) (1.2.0)\n",
            "Requirement already satisfied: pyscreeze>=0.1.21 in /usr/local/lib/python3.11/dist-packages (from pyautogui<0.10,>=0.9.54->camel-ai[all]==0.2.66) (1.0.1)\n",
            "Requirement already satisfied: pygetwindow>=0.0.5 in /usr/local/lib/python3.11/dist-packages (from pyautogui<0.10,>=0.9.54->camel-ai[all]==0.2.66) (0.0.9)\n",
            "Requirement already satisfied: mouseinfo in /usr/local/lib/python3.11/dist-packages (from pyautogui<0.10,>=0.9.54->camel-ai[all]==0.2.66) (0.1.3)\n",
            "Requirement already satisfied: annotated-types>=0.6.0 in /usr/local/lib/python3.11/dist-packages (from pydantic>=2.10.6->camel-ai==0.2.66->camel-ai[all]==0.2.66) (0.7.0)\n",
            "Requirement already satisfied: pynacl>=1.4.0 in /usr/local/lib/python3.11/dist-packages (from pygithub<3,>=2.6.0->camel-ai[all]==0.2.66) (1.5.0)\n",
            "Requirement already satisfied: pyjwt>=2.4.0 in /usr/local/lib/python3.11/dist-packages (from pyjwt[crypto]>=2.4.0->pygithub<3,>=2.6.0->camel-ai[all]==0.2.66) (2.9.0)\n",
            "Requirement already satisfied: ordered-set in /usr/local/lib/python3.11/dist-packages (from pylatex>=1.4.2->camel-ai[all]==0.2.66) (4.1.0)\n",
            "Requirement already satisfied: setuptools>69 in /usr/local/lib/python3.11/dist-packages (from pymilvus<3,>=2.4.0->camel-ai[all]==0.2.66) (75.2.0)\n",
            "Requirement already satisfied: grpcio<=1.67.1,>=1.49.1 in /usr/local/lib/python3.11/dist-packages (from pymilvus<3,>=2.4.0->camel-ai[all]==0.2.66) (1.67.1)\n",
            "Requirement already satisfied: protobuf>=3.20.0 in /usr/local/lib/python3.11/dist-packages (from pymilvus<3,>=2.4.0->camel-ai[all]==0.2.66) (5.29.5)\n",
            "Requirement already satisfied: ujson>=2.0.0 in /usr/local/lib/python3.11/dist-packages (from pymilvus<3,>=2.4.0->camel-ai[all]==0.2.66) (5.10.0)\n",
            "Requirement already satisfied: milvus-lite>=2.4.0 in /usr/local/lib/python3.11/dist-packages (from pymilvus<3,>=2.4.0->camel-ai[all]==0.2.66) (2.4.12)\n",
            "Requirement already satisfied: aiomysql<0.3.0,>=0.2.0 in /usr/local/lib/python3.11/dist-packages (from pyobvector>=0.1.18->camel-ai[all]==0.2.66) (0.2.0)\n",
            "Requirement already satisfied: geojson<3,>=2.3.0 in /usr/local/lib/python3.11/dist-packages (from pyowm<4,>=3.3.0->camel-ai[all]==0.2.66) (2.5.0)\n",
            "Requirement already satisfied: PySocks<2,>=1.7.1 in /usr/local/lib/python3.11/dist-packages (from pyowm<4,>=3.3.0->camel-ai[all]==0.2.66) (1.7.1)\n",
            "Requirement already satisfied: iniconfig in /usr/local/lib/python3.11/dist-packages (from pytest<8,>=7->camel-ai[all]==0.2.66) (2.1.0)\n",
            "Requirement already satisfied: pluggy<2.0,>=0.12 in /usr/local/lib/python3.11/dist-packages (from pytest<8,>=7->camel-ai[all]==0.2.66) (1.6.0)\n",
            "Requirement already satisfied: coverage>=5.2.1 in /usr/local/lib/python3.11/dist-packages (from coverage[toml]>=5.2.1->pytest-cov<5,>=4->camel-ai[all]==0.2.66) (7.9.1)\n",
            "Requirement already satisfied: XlsxWriter>=0.5.7 in /usr/local/lib/python3.11/dist-packages (from python-pptx>=1.0.2->camel-ai[all]==0.2.66) (3.2.5)\n",
            "Requirement already satisfied: portalocker<3.0.0,>=2.7.0 in /usr/local/lib/python3.11/dist-packages (from qdrant-client<2,>=1.9.0->camel-ai[all]==0.2.66) (2.10.1)\n",
            "Requirement already satisfied: oauthlib>=3.0.0 in /usr/local/lib/python3.11/dist-packages (from requests-oauthlib<2,>=1.3.1->camel-ai[all]==0.2.66) (3.2.2)\n",
            "Requirement already satisfied: platformdirs in /usr/local/lib/python3.11/dist-packages (from scenedetect>=0.6.5.2->camel-ai[all]==0.2.66) (4.3.8)\n",
            "Requirement already satisfied: cffi>=1.0 in /usr/local/lib/python3.11/dist-packages (from soundfile<0.14,>=0.13->camel-ai[all]==0.2.66) (1.17.1)\n",
            "Requirement already satisfied: mpmath<1.4,>=1.1.0 in /usr/local/lib/python3.11/dist-packages (from sympy<2,>=1.13.3->camel-ai[all]==0.2.66) (1.3.0)\n",
            "Requirement already satisfied: shellingham>=1.3.0 in /usr/local/lib/python3.11/dist-packages (from typer>=0.15.2->camel-ai[all]==0.2.66) (1.5.4)\n",
            "Requirement already satisfied: rich>=10.11.0 in /usr/local/lib/python3.11/dist-packages (from typer>=0.15.2->camel-ai[all]==0.2.66) (13.9.4)\n",
            "Requirement already satisfied: validators==0.34.0 in /usr/local/lib/python3.11/dist-packages (from weaviate-client>=4.15.0->camel-ai[all]==0.2.66) (0.34.0)\n",
            "Requirement already satisfied: authlib<1.3.2,>=1.2.1 in /usr/local/lib/python3.11/dist-packages (from weaviate-client>=4.15.0->camel-ai[all]==0.2.66) (1.3.1)\n",
            "Requirement already satisfied: grpcio-tools<2.0.0,>=1.66.2 in /usr/local/lib/python3.11/dist-packages (from weaviate-client>=4.15.0->camel-ai[all]==0.2.66) (1.67.1)\n",
            "Requirement already satisfied: grpcio-health-checking<2.0.0,>=1.66.2 in /usr/local/lib/python3.11/dist-packages (from weaviate-client>=4.15.0->camel-ai[all]==0.2.66) (1.67.1)\n",
            "Requirement already satisfied: deprecation<3.0.0,>=2.1.0 in /usr/local/lib/python3.11/dist-packages (from weaviate-client>=4.15.0->camel-ai[all]==0.2.66) (2.1.0)\n",
            "Requirement already satisfied: xmltodict in /usr/local/lib/python3.11/dist-packages (from wolframalpha<6,>=5.0.0->camel-ai[all]==0.2.66) (0.14.2)\n",
            "Requirement already satisfied: jaraco.context in /usr/local/lib/python3.11/dist-packages (from wolframalpha<6,>=5.0.0->camel-ai[all]==0.2.66) (6.0.1)\n",
            "Requirement already satisfied: multidict in /usr/local/lib/python3.11/dist-packages (from wolframalpha<6,>=5.0.0->camel-ai[all]==0.2.66) (6.4.4)\n",
            "Requirement already satisfied: xlrd in /usr/local/lib/python3.11/dist-packages (from xls2xlsx>=0.2.0->camel-ai[all]==0.2.66) (2.0.1)\n",
            "Requirement already satisfied: cssutils in /usr/local/lib/python3.11/dist-packages (from xls2xlsx>=0.2.0->camel-ai[all]==0.2.66) (2.11.1)\n",
            "Requirement already satisfied: webcolors in /usr/local/lib/python3.11/dist-packages (from xls2xlsx>=0.2.0->camel-ai[all]==0.2.66) (24.11.1)\n",
            "Requirement already satisfied: currency-symbols in /usr/local/lib/python3.11/dist-packages (from xls2xlsx>=0.2.0->camel-ai[all]==0.2.66) (2.0.4)\n",
            "Requirement already satisfied: fonttools in /usr/local/lib/python3.11/dist-packages (from xls2xlsx>=0.2.0->camel-ai[all]==0.2.66) (4.58.2)\n",
            "Requirement already satisfied: aiohappyeyeballs>=2.3.0 in /usr/local/lib/python3.11/dist-packages (from aiohttp<4,>=3.7.4->discord-py<3,>=2.3.2->camel-ai[all]==0.2.66) (2.6.1)\n",
            "Requirement already satisfied: aiosignal>=1.1.2 in /usr/local/lib/python3.11/dist-packages (from aiohttp<4,>=3.7.4->discord-py<3,>=2.3.2->camel-ai[all]==0.2.66) (1.3.2)\n",
            "Requirement already satisfied: frozenlist>=1.1.1 in /usr/local/lib/python3.11/dist-packages (from aiohttp<4,>=3.7.4->discord-py<3,>=2.3.2->camel-ai[all]==0.2.66) (1.7.0)\n",
            "Requirement already satisfied: propcache>=0.2.0 in /usr/local/lib/python3.11/dist-packages (from aiohttp<4,>=3.7.4->discord-py<3,>=2.3.2->camel-ai[all]==0.2.66) (0.3.2)\n",
            "Requirement already satisfied: yarl<2.0,>=1.17.0 in /usr/local/lib/python3.11/dist-packages (from aiohttp<4,>=3.7.4->discord-py<3,>=2.3.2->camel-ai[all]==0.2.66) (1.20.1)\n",
            "Requirement already satisfied: narwhals>=1.14.2 in /usr/local/lib/python3.11/dist-packages (from altair>=4.2.0->gradio<4,>=3->camel-ai[all]==0.2.66) (1.42.0)\n",
            "Requirement already satisfied: pycparser in /usr/local/lib/python3.11/dist-packages (from cffi>=1.0->soundfile<0.14,>=0.13->camel-ai[all]==0.2.66) (2.22)\n",
            "Requirement already satisfied: sgmllib3k in /usr/local/lib/python3.11/dist-packages (from feedparser~=6.0.10->arxiv<3,>=2.1.3->camel-ai[all]==0.2.66) (1.0.0)\n",
            "Requirement already satisfied: googleapis-common-protos<2.0.0,>=1.56.2 in /usr/local/lib/python3.11/dist-packages (from google-api-core!=2.0.*,!=2.1.*,!=2.2.*,!=2.3.0,<3.0.0,>=1.31.5->google-api-python-client==2.166.0->camel-ai[all]==0.2.66) (1.70.0)\n",
            "Requirement already satisfied: proto-plus<2.0.0,>=1.22.3 in /usr/local/lib/python3.11/dist-packages (from google-api-core!=2.0.*,!=2.1.*,!=2.2.*,!=2.3.0,<3.0.0,>=1.31.5->google-api-python-client==2.166.0->camel-ai[all]==0.2.66) (1.26.1)\n",
            "Requirement already satisfied: cachetools<6.0,>=2.0.0 in /usr/local/lib/python3.11/dist-packages (from google-auth!=2.24.0,!=2.25.0,<3.0.0,>=1.32.0->google-api-python-client==2.166.0->camel-ai[all]==0.2.66) (5.5.2)\n",
            "Requirement already satisfied: pyasn1-modules>=0.2.1 in /usr/local/lib/python3.11/dist-packages (from google-auth!=2.24.0,!=2.25.0,<3.0.0,>=1.32.0->google-api-python-client==2.166.0->camel-ai[all]==0.2.66) (0.4.2)\n",
            "Requirement already satisfied: rsa<5,>=3.1.4 in /usr/local/lib/python3.11/dist-packages (from google-auth!=2.24.0,!=2.25.0,<3.0.0,>=1.32.0->google-api-python-client==2.166.0->camel-ai[all]==0.2.66) (4.9.1)\n",
            "Requirement already satisfied: pyparsing!=3.0.0,!=3.0.1,!=3.0.2,!=3.0.3,<4,>=2.4.2 in /usr/local/lib/python3.11/dist-packages (from httplib2<1.0.0,>=0.19.0->google-api-python-client==2.166.0->camel-ai[all]==0.2.66) (3.2.3)\n",
            "Requirement already satisfied: wsproto in /usr/local/lib/python3.11/dist-packages (from httpx-ws>=0.6.2->fish-audio-sdk<2025,>=2024.12.5->camel-ai[all]==0.2.66) (1.2.0)\n",
            "Requirement already satisfied: h2<5,>=3 in /usr/local/lib/python3.11/dist-packages (from httpx[http2]>=0.22.0->nebula3-python==3.8.2->camel-ai[all]==0.2.66) (4.2.0)\n",
            "Requirement already satisfied: hf-xet<2.0.0,>=1.1.2 in /usr/local/lib/python3.11/dist-packages (from huggingface-hub>=0.24.0->datasets<4,>=3->camel-ai[all]==0.2.66) (1.1.3)\n",
            "Requirement already satisfied: ibm-cos-sdk-core==2.14.2 in /usr/local/lib/python3.11/dist-packages (from ibm-cos-sdk<2.15.0,>=2.12.0->ibm-watsonx-ai>=1.3.11->camel-ai[all]==0.2.66) (2.14.2)\n",
            "Requirement already satisfied: ibm-cos-sdk-s3transfer==2.14.2 in /usr/local/lib/python3.11/dist-packages (from ibm-cos-sdk<2.15.0,>=2.12.0->ibm-watsonx-ai>=1.3.11->camel-ai[all]==0.2.66) (2.14.2)\n",
            "Requirement already satisfied: zipp>=3.20 in /usr/local/lib/python3.11/dist-packages (from importlib-metadata->diffusers<0.26,>=0.25.0->camel-ai[all]==0.2.66) (3.23.0)\n",
            "Requirement already satisfied: jedi>=0.16 in /usr/local/lib/python3.11/dist-packages (from ipython>=7.23.1->ipykernel<7,>=6.0.0->camel-ai[all]==0.2.66) (0.19.2)\n",
            "Requirement already satisfied: decorator in /usr/local/lib/python3.11/dist-packages (from ipython>=7.23.1->ipykernel<7,>=6.0.0->camel-ai[all]==0.2.66) (4.4.2)\n",
            "Requirement already satisfied: pickleshare in /usr/local/lib/python3.11/dist-packages (from ipython>=7.23.1->ipykernel<7,>=6.0.0->camel-ai[all]==0.2.66) (0.7.5)\n",
            "Requirement already satisfied: prompt-toolkit!=3.0.0,!=3.0.1,<3.1.0,>=2.0.0 in /usr/local/lib/python3.11/dist-packages (from ipython>=7.23.1->ipykernel<7,>=6.0.0->camel-ai[all]==0.2.66) (3.0.51)\n",
            "Requirement already satisfied: backcall in /usr/local/lib/python3.11/dist-packages (from ipython>=7.23.1->ipykernel<7,>=6.0.0->camel-ai[all]==0.2.66) (0.2.0)\n",
            "Requirement already satisfied: pexpect>4.3 in /usr/local/lib/python3.11/dist-packages (from ipython>=7.23.1->ipykernel<7,>=6.0.0->camel-ai[all]==0.2.66) (4.9.0)\n",
            "Requirement already satisfied: pathable<0.5.0,>=0.4.1 in /usr/local/lib/python3.11/dist-packages (from jsonschema-path<0.4.0,>=0.3.1->openapi-spec-validator<0.8,>=0.7.1->camel-ai[all]==0.2.66) (0.4.4)\n",
            "Requirement already satisfied: onnxruntime>=1.17.0 in /usr/local/lib/python3.11/dist-packages (from magika~=0.6.1->markitdown==0.1.1->camel-ai[all]==0.2.66) (1.22.0)\n",
            "Requirement already satisfied: mdurl~=0.1 in /usr/local/lib/python3.11/dist-packages (from markdown-it-py>=2.0.0->markdown-it-py[linkify]>=2.0.0->gradio<4,>=3->camel-ai[all]==0.2.66) (0.1.2)\n",
            "Requirement already satisfied: linkify-it-py<3,>=1 in /usr/local/lib/python3.11/dist-packages (from markdown-it-py[linkify]>=2.0.0->gradio<4,>=3->camel-ai[all]==0.2.66) (2.0.3)\n",
            "Requirement already satisfied: contourpy>=1.0.1 in /usr/local/lib/python3.11/dist-packages (from matplotlib->gradio<4,>=3->camel-ai[all]==0.2.66) (1.3.2)\n",
            "Requirement already satisfied: cycler>=0.10 in /usr/local/lib/python3.11/dist-packages (from matplotlib->gradio<4,>=3->camel-ai[all]==0.2.66) (0.12.1)\n",
            "Requirement already satisfied: kiwisolver>=1.3.1 in /usr/local/lib/python3.11/dist-packages (from matplotlib->gradio<4,>=3->camel-ai[all]==0.2.66) (1.4.8)\n",
            "Requirement already satisfied: joblib in /usr/local/lib/python3.11/dist-packages (from nltk->unstructured==0.16.20->camel-ai[all]==0.2.66) (1.5.1)\n",
            "Requirement already satisfied: rfc3339-validator in /usr/local/lib/python3.11/dist-packages (from openapi-schema-validator<0.7.0,>=0.6.0->openapi-spec-validator<0.8,>=0.7.1->camel-ai[all]==0.2.66) (0.1.4)\n",
            "Requirement already satisfied: opentelemetry-exporter-otlp-proto-grpc==1.34.1 in /usr/local/lib/python3.11/dist-packages (from opentelemetry-exporter-otlp<2.0.0,>=1.33.1->langfuse>=2.60.5->camel-ai[all]==0.2.66) (1.34.1)\n",
            "Requirement already satisfied: opentelemetry-exporter-otlp-proto-common==1.34.1 in /usr/local/lib/python3.11/dist-packages (from opentelemetry-exporter-otlp-proto-http>=1.27.0->agentops<0.4,>=0.3.21->camel-ai[all]==0.2.66) (1.34.1)\n",
            "Requirement already satisfied: opentelemetry-proto==1.34.1 in /usr/local/lib/python3.11/dist-packages (from opentelemetry-exporter-otlp-proto-http>=1.27.0->agentops<0.4,>=0.3.21->camel-ai[all]==0.2.66) (1.34.1)\n",
            "Requirement already satisfied: opentelemetry-semantic-conventions==0.55b1 in /usr/local/lib/python3.11/dist-packages (from opentelemetry-sdk>=1.27.0->agentops<0.4,>=0.3.21->camel-ai[all]==0.2.66) (0.55b1)\n",
            "Requirement already satisfied: pyrect in /usr/local/lib/python3.11/dist-packages (from pygetwindow>=0.0.5->pyautogui<0.10,>=0.9.54->camel-ai[all]==0.2.66) (0.2.0)\n",
            "Requirement already satisfied: ruamel.yaml.clib>=0.2.7 in /usr/local/lib/python3.11/dist-packages (from ruamel.yaml>=0.17.10->prance<24,>=23.6.21.0->camel-ai[all]==0.2.66) (0.2.12)\n",
            "Requirement already satisfied: sqlglotrs==0.2.12 in /usr/local/lib/python3.11/dist-packages (from sqlglot[rs]<26.0.0,>=25.0.3->pandasai<3,>=2.3.0->camel-ai[all]==0.2.66) (0.2.12)\n",
            "Requirement already satisfied: fake-http-header<0.4.0,>=0.3.5 in /usr/local/lib/python3.11/dist-packages (from tf-playwright-stealth>=1.1.0->crawl4ai>=0.3.745->camel-ai[all]==0.2.66) (0.3.5)\n",
            "Requirement already satisfied: requests-file>=1.4 in /usr/local/lib/python3.11/dist-packages (from tldextract>=2.0.1->newspaper3k<0.3,>=0.2.8->camel-ai[all]==0.2.66) (2.1.0)\n",
            "Requirement already satisfied: distlib<1,>=0.3.7 in /usr/local/lib/python3.11/dist-packages (from virtualenv>=20.10.0->pre-commit<4,>=3->camel-ai[all]==0.2.66) (0.3.9)\n",
            "Requirement already satisfied: types-python-dateutil>=2.8.10 in /usr/local/lib/python3.11/dist-packages (from arrow->scholarly==1.7.11->scholarly[tor]==1.7.11; extra == \"all\"->camel-ai[all]==0.2.66) (2.9.0.20250516)\n",
            "Requirement already satisfied: typing-inspect<1,>=0.4.0 in /usr/local/lib/python3.11/dist-packages (from dataclasses-json->unstructured==0.16.20->camel-ai[all]==0.2.66) (0.9.0)\n",
            "Requirement already satisfied: webencodings in /usr/local/lib/python3.11/dist-packages (from html5lib->unstructured==0.16.20->camel-ai[all]==0.2.66) (0.5.1)\n",
            "Requirement already satisfied: backports.tarfile in /usr/local/lib/python3.11/dist-packages (from jaraco.context->wolframalpha<6,>=5.0.0->camel-ai[all]==0.2.66) (1.2.0)\n",
            "Requirement already satisfied: pyperclip in /usr/local/lib/python3.11/dist-packages (from mouseinfo->pyautogui<0.10,>=0.9.54->camel-ai[all]==0.2.66) (1.9.0)\n",
            "Requirement already satisfied: olefile in /usr/local/lib/python3.11/dist-packages (from python-oxmsg->unstructured==0.16.20->camel-ai[all]==0.2.66) (0.47)\n",
            "Requirement already satisfied: threadpoolctl>=3.1.0 in /usr/local/lib/python3.11/dist-packages (from scikit-learn->arxiv2text<0.2,>=0.1.14->camel-ai[all]==0.2.66) (3.6.0)\n",
            "Requirement already satisfied: trio~=0.30.0 in /usr/local/lib/python3.11/dist-packages (from selenium->scholarly==1.7.11->scholarly[tor]==1.7.11; extra == \"all\"->camel-ai[all]==0.2.66) (0.30.0)\n",
            "Requirement already satisfied: trio-websocket~=0.12.2 in /usr/local/lib/python3.11/dist-packages (from selenium->scholarly==1.7.11->scholarly[tor]==1.7.11; extra == \"all\"->camel-ai[all]==0.2.66) (0.12.2)\n",
            "Requirement already satisfied: sphinx<9,>=6 in /usr/local/lib/python3.11/dist-packages (from sphinx-rtd-theme->scholarly==1.7.11->scholarly[tor]==1.7.11; extra == \"all\"->camel-ai[all]==0.2.66) (8.2.3)\n",
            "Requirement already satisfied: docutils<0.22,>0.18 in /usr/local/lib/python3.11/dist-packages (from sphinx-rtd-theme->scholarly==1.7.11->scholarly[tor]==1.7.11; extra == \"all\"->camel-ai[all]==0.2.66) (0.21.2)\n",
            "Requirement already satisfied: sphinxcontrib-jquery<5,>=4 in /usr/local/lib/python3.11/dist-packages (from sphinx-rtd-theme->scholarly==1.7.11->scholarly[tor]==1.7.11; extra == \"all\"->camel-ai[all]==0.2.66) (4.1)\n",
            "Requirement already satisfied: pypdf>=4.0 in /usr/local/lib/python3.11/dist-packages (from unstructured-client->unstructured==0.16.20->camel-ai[all]==0.2.66) (5.6.0)\n",
            "Requirement already satisfied: requests-toolbelt>=1.0.0 in /usr/local/lib/python3.11/dist-packages (from unstructured-client->unstructured==0.16.20->camel-ai[all]==0.2.66) (1.0.0)\n",
            "Requirement already satisfied: hyperframe<7,>=6.1 in /usr/local/lib/python3.11/dist-packages (from h2<5,>=3->httpx[http2]>=0.22.0->nebula3-python==3.8.2->camel-ai[all]==0.2.66) (6.1.0)\n",
            "Requirement already satisfied: hpack<5,>=4.1 in /usr/local/lib/python3.11/dist-packages (from h2<5,>=3->httpx[http2]>=0.22.0->nebula3-python==3.8.2->camel-ai[all]==0.2.66) (4.1.0)\n",
            "Requirement already satisfied: parso<0.9.0,>=0.8.4 in /usr/local/lib/python3.11/dist-packages (from jedi>=0.16->ipython>=7.23.1->ipykernel<7,>=6.0.0->camel-ai[all]==0.2.66) (0.8.4)\n",
            "Requirement already satisfied: uc-micro-py in /usr/local/lib/python3.11/dist-packages (from linkify-it-py<3,>=1->markdown-it-py[linkify]>=2.0.0->gradio<4,>=3->camel-ai[all]==0.2.66) (1.0.3)\n",
            "Requirement already satisfied: coloredlogs in /usr/local/lib/python3.11/dist-packages (from onnxruntime>=1.17.0->magika~=0.6.1->markitdown==0.1.1->camel-ai[all]==0.2.66) (15.0.1)\n",
            "Requirement already satisfied: flatbuffers in /usr/local/lib/python3.11/dist-packages (from onnxruntime>=1.17.0->magika~=0.6.1->markitdown==0.1.1->camel-ai[all]==0.2.66) (25.2.10)\n",
            "Requirement already satisfied: ptyprocess>=0.5 in /usr/local/lib/python3.11/dist-packages (from pexpect>4.3->ipython>=7.23.1->ipykernel<7,>=6.0.0->camel-ai[all]==0.2.66) (0.7.0)\n",
            "Requirement already satisfied: wcwidth in /usr/local/lib/python3.11/dist-packages (from prompt-toolkit!=3.0.0,!=3.0.1,<3.1.0,>=2.0.0->ipython>=7.23.1->ipykernel<7,>=6.0.0->camel-ai[all]==0.2.66) (0.2.13)\n",
            "Requirement already satisfied: pyasn1<0.7.0,>=0.6.1 in /usr/local/lib/python3.11/dist-packages (from pyasn1-modules>=0.2.1->google-auth!=2.24.0,!=2.25.0,<3.0.0,>=1.32.0->google-api-python-client==2.166.0->camel-ai[all]==0.2.66) (0.6.1)\n",
            "Requirement already satisfied: sphinxcontrib-applehelp>=1.0.7 in /usr/local/lib/python3.11/dist-packages (from sphinx<9,>=6->sphinx-rtd-theme->scholarly==1.7.11->scholarly[tor]==1.7.11; extra == \"all\"->camel-ai[all]==0.2.66) (2.0.0)\n",
            "Requirement already satisfied: sphinxcontrib-devhelp>=1.0.6 in /usr/local/lib/python3.11/dist-packages (from sphinx<9,>=6->sphinx-rtd-theme->scholarly==1.7.11->scholarly[tor]==1.7.11; extra == \"all\"->camel-ai[all]==0.2.66) (2.0.0)\n",
            "Requirement already satisfied: sphinxcontrib-htmlhelp>=2.0.6 in /usr/local/lib/python3.11/dist-packages (from sphinx<9,>=6->sphinx-rtd-theme->scholarly==1.7.11->scholarly[tor]==1.7.11; extra == \"all\"->camel-ai[all]==0.2.66) (2.1.0)\n",
            "Requirement already satisfied: sphinxcontrib-jsmath>=1.0.1 in /usr/local/lib/python3.11/dist-packages (from sphinx<9,>=6->sphinx-rtd-theme->scholarly==1.7.11->scholarly[tor]==1.7.11; extra == \"all\"->camel-ai[all]==0.2.66) (1.0.1)\n",
            "Requirement already satisfied: sphinxcontrib-qthelp>=1.0.6 in /usr/local/lib/python3.11/dist-packages (from sphinx<9,>=6->sphinx-rtd-theme->scholarly==1.7.11->scholarly[tor]==1.7.11; extra == \"all\"->camel-ai[all]==0.2.66) (2.0.0)\n",
            "Requirement already satisfied: sphinxcontrib-serializinghtml>=1.1.9 in /usr/local/lib/python3.11/dist-packages (from sphinx<9,>=6->sphinx-rtd-theme->scholarly==1.7.11->scholarly[tor]==1.7.11; extra == \"all\"->camel-ai[all]==0.2.66) (2.0.0)\n",
            "Requirement already satisfied: babel>=2.13 in /usr/local/lib/python3.11/dist-packages (from sphinx<9,>=6->sphinx-rtd-theme->scholarly==1.7.11->scholarly[tor]==1.7.11; extra == \"all\"->camel-ai[all]==0.2.66) (2.17.0)\n",
            "Requirement already satisfied: alabaster>=0.7.14 in /usr/local/lib/python3.11/dist-packages (from sphinx<9,>=6->sphinx-rtd-theme->scholarly==1.7.11->scholarly[tor]==1.7.11; extra == \"all\"->camel-ai[all]==0.2.66) (1.0.0)\n",
            "Requirement already satisfied: imagesize>=1.3 in /usr/local/lib/python3.11/dist-packages (from sphinx<9,>=6->sphinx-rtd-theme->scholarly==1.7.11->scholarly[tor]==1.7.11; extra == \"all\"->camel-ai[all]==0.2.66) (1.4.1)\n",
            "Requirement already satisfied: roman-numerals-py>=1.0.0 in /usr/local/lib/python3.11/dist-packages (from sphinx<9,>=6->sphinx-rtd-theme->scholarly==1.7.11->scholarly[tor]==1.7.11; extra == \"all\"->camel-ai[all]==0.2.66) (3.1.0)\n",
            "Requirement already satisfied: sortedcontainers in /usr/local/lib/python3.11/dist-packages (from trio~=0.30.0->selenium->scholarly==1.7.11->scholarly[tor]==1.7.11; extra == \"all\"->camel-ai[all]==0.2.66) (2.4.0)\n",
            "Requirement already satisfied: outcome in /usr/local/lib/python3.11/dist-packages (from trio~=0.30.0->selenium->scholarly==1.7.11->scholarly[tor]==1.7.11; extra == \"all\"->camel-ai[all]==0.2.66) (1.3.0.post0)\n",
            "Requirement already satisfied: humanfriendly>=9.1 in /usr/local/lib/python3.11/dist-packages (from coloredlogs->onnxruntime>=1.17.0->magika~=0.6.1->markitdown==0.1.1->camel-ai[all]==0.2.66) (10.0)\n"
          ]
        }
      ],
      "source": [
        "%pip install \"camel-ai[all]==0.2.66\""
      ]
    },
    {
      "cell_type": "markdown",
      "metadata": {
        "id": "_JiOqhOIZNqg"
      },
      "source": [
        "## 🔑 Setting Up API Keys"
      ]
    },
    {
      "cell_type": "code",
      "execution_count": 2,
      "metadata": {
        "colab": {
          "base_uri": "https://localhost:8080/"
        },
        "id": "_-8_5_srcpC_",
        "outputId": "18ae5802-9593-4bd7-9d8d-4a8b76fc96bf"
      },
      "outputs": [
        {
          "name": "stdout",
          "output_type": "stream",
          "text": [
            "Enter your API key: ··········\n"
          ]
        }
      ],
      "source": [
        "import os\n",
        "from getpass import getpass\n",
        "\n",
        "# Prompt for the API key securely\n",
        "openai_api_key = getpass('Enter your API key: ')\n",
        "os.environ[\"OPENAI_API_KEY\"] = openai_api_key"
      ]
    },
    {
      "cell_type": "markdown",
      "metadata": {
        "id": "KqiVn6o2ZNqh"
      },
      "source": [
        "Alternatively, if running on Colab, you could save your API keys and tokens as **Colab Secrets**, and use them across notebooks.\n",
        "\n",
        "To do so, **comment out** the above **manual** API key prompt code block(s), and **uncomment** the following codeblock.\n",
        "\n",
        "⚠️ Don't forget granting access to the API key you would be using to the current notebook."
      ]
    },
    {
      "cell_type": "code",
      "execution_count": 3,
      "metadata": {
        "id": "QYFuUz8oZNqh"
      },
      "outputs": [],
      "source": [
        "# import os\n",
        "# from google.colab import userdata\n",
        "\n",
        "# os.environ[\"OPENAI_API_KEY\"] = userdata.get(\"OPENAI_API_KEY\")"
      ]
    },
    {
      "cell_type": "markdown",
      "metadata": {
        "id": "UL43-gPZZNqh"
      },
      "source": [
        "## Set up an agent for video analysis task"
      ]
    },
    {
      "cell_type": "code",
      "source": [
        "from camel.toolkits import VideoDownloaderToolkit\n",
        "#Download video to be analyse\n",
        "urls=[\"https://www.youtube.com/watch?v=n3u5EcjRmdY\",\"https://youtu.be/PNqrHNQlU6I?si=8s2Zvh_F1-bIkeBr\"]\n",
        "video_downloader = VideoDownloaderToolkit(\"./download\")\n",
        "for url in urls:\n",
        "  video_downloader.download_video(url)"
      ],
      "metadata": {
        "colab": {
          "base_uri": "https://localhost:8080/"
        },
        "id": "CkTI25jpZVQI",
        "outputId": "8aeb49fe-9d9c-44d9-8fd8-0ee64fdb8b67"
      },
      "execution_count": 4,
      "outputs": [
        {
          "output_type": "stream",
          "name": "stdout",
          "text": [
            "[youtube] Extracting URL: https://www.youtube.com/watch?v=n3u5EcjRmdY\n",
            "[youtube] n3u5EcjRmdY: Downloading webpage\n"
          ]
        },
        {
          "output_type": "stream",
          "name": "stderr",
          "text": [
            "/usr/local/lib/python3.11/dist-packages/camel/toolkits/function_tool.py:533: UserWarning: Parameter description is missing for {'type': 'string'}. This may affect the quality of tool calling.\n",
            "  warnings.warn(\n"
          ]
        },
        {
          "output_type": "stream",
          "name": "stdout",
          "text": [
            "[youtube] n3u5EcjRmdY: Downloading ios player API JSON\n",
            "[youtube] n3u5EcjRmdY: Downloading mweb player API JSON\n",
            "[youtube] n3u5EcjRmdY: Downloading player 94f771d8\n"
          ]
        },
        {
          "output_type": "stream",
          "name": "stderr",
          "text": [
            "WARNING: [youtube] Falling back to generic n function search\n",
            "         player = https://www.youtube.com/s/player/94f771d8/player_ias.vflset/en_US/base.js\n",
            "WARNING: [youtube] n3u5EcjRmdY: nsig extraction failed: Some formats may be missing\n",
            "         n = mnrZvkcLHfIJy69MK ; player = https://www.youtube.com/s/player/94f771d8/player_ias.vflset/en_US/base.js\n",
            "WARNING: [youtube] Falling back to generic n function search\n",
            "         player = https://www.youtube.com/s/player/94f771d8/player_ias.vflset/en_US/base.js\n",
            "WARNING: [youtube] n3u5EcjRmdY: nsig extraction failed: Some formats may be missing\n",
            "         n = 6idWDrzRBGW_BV462 ; player = https://www.youtube.com/s/player/94f771d8/player_ias.vflset/en_US/base.js\n"
          ]
        },
        {
          "output_type": "stream",
          "name": "stdout",
          "text": [
            "[youtube] n3u5EcjRmdY: Downloading m3u8 information\n",
            "[info] n3u5EcjRmdY: Downloading 1 format(s): 270+234\n",
            "[hlsnative] Downloading m3u8 manifest\n",
            "[hlsnative] Total fragments: 43\n",
            "[download] Destination: /content/download/This AI Agent Analyses Videos Brilliantly (5 Easy Examples You Can Try).f270.mp4\n",
            "[download] 100% of   55.17MiB in 00:00:20 at 2.63MiB/s                 \n",
            "[hlsnative] Downloading m3u8 manifest\n",
            "[hlsnative] Total fragments: 43\n",
            "[download] Destination: /content/download/This AI Agent Analyses Videos Brilliantly (5 Easy Examples You Can Try).f234.mp4\n",
            "[download] 100% of    4.05MiB in 00:00:16 at 248.44KiB/s               \n",
            "[Merger] Merging formats into \"/content/download/This AI Agent Analyses Videos Brilliantly (5 Easy Examples You Can Try).mp4\"\n",
            "Deleting original file /content/download/This AI Agent Analyses Videos Brilliantly (5 Easy Examples You Can Try).f270.mp4 (pass -k to keep)\n",
            "Deleting original file /content/download/This AI Agent Analyses Videos Brilliantly (5 Easy Examples You Can Try).f234.mp4 (pass -k to keep)\n",
            "[youtube] Extracting URL: https://youtu.be/PNqrHNQlU6I?si=8s2Zvh_F1-bIkeBr\n",
            "[youtube] PNqrHNQlU6I: Downloading webpage\n",
            "[youtube] PNqrHNQlU6I: Downloading ios player API JSON\n",
            "[youtube] PNqrHNQlU6I: Downloading mweb player API JSON\n",
            "[youtube] PNqrHNQlU6I: Downloading player 94f771d8\n"
          ]
        },
        {
          "output_type": "stream",
          "name": "stderr",
          "text": [
            "WARNING: [youtube] PNqrHNQlU6I: Signature extraction failed: Some formats may be missing\n"
          ]
        },
        {
          "output_type": "stream",
          "name": "stdout",
          "text": [
            "[youtube] PNqrHNQlU6I: Downloading m3u8 information\n",
            "[info] PNqrHNQlU6I: Downloading 1 format(s): 614+234\n",
            "[hlsnative] Downloading m3u8 manifest\n",
            "[hlsnative] Total fragments: 13\n",
            "[download] Destination: /content/download/Introducing CRAB.f614.mp4\n",
            "[download] 100% of    5.80MiB in 00:00:02 at 2.67MiB/s                 \n",
            "[hlsnative] Downloading m3u8 manifest\n",
            "[hlsnative] Total fragments: 13\n",
            "[download] Destination: /content/download/Introducing CRAB.f234.mp4\n",
            "[download] 100% of    1.03MiB in 00:00:04 at 233.62KiB/s               \n",
            "[Merger] Merging formats into \"/content/download/Introducing CRAB.mp4\"\n",
            "Deleting original file /content/download/Introducing CRAB.f614.mp4 (pass -k to keep)\n",
            "Deleting original file /content/download/Introducing CRAB.f234.mp4 (pass -k to keep)\n"
          ]
        }
      ]
    },
    {
      "cell_type": "code",
      "execution_count": 5,
      "metadata": {
        "id": "J97N3GtSexwu"
      },
      "outputs": [],
      "source": [
        "from camel.agents import ChatAgent\n",
        "from camel.configs.openai_config import ChatGPTConfig\n",
        "from camel.messages import BaseMessage\n",
        "from camel.prompts.prompt_templates import PromptTemplateGenerator\n",
        "from camel.types import ModelType, ModelPlatformType\n",
        "from camel.types.enums import RoleType, TaskType\n",
        "from camel.models import ModelFactory\n",
        "\n",
        "# Define system message\n",
        "sys_msg_prompt = PromptTemplateGenerator().get_prompt_from_key(\n",
        "    TaskType.VIDEO_DESCRIPTION, RoleType.ASSISTANT\n",
        ")\n",
        "sys_msg = BaseMessage.make_assistant_message(\n",
        "    role_name=\"Assistant\",\n",
        "    content=sys_msg_prompt,\n",
        ")\n",
        "\n",
        "# Set model\n",
        "model=ModelFactory.create(\n",
        "    model_platform=ModelPlatformType.OPENAI,\n",
        "    model_type=ModelType.GPT_4O,\n",
        "    model_config_dict=ChatGPTConfig().as_dict(),\n",
        ")\n",
        "\n",
        "# Set agent\n",
        "camel_agent = ChatAgent(\n",
        "    sys_msg,\n",
        "    model=model\n",
        ")"
      ]
    },
    {
      "cell_type": "markdown",
      "metadata": {
        "id": "7nikG1slZNqi"
      },
      "source": [
        "## Providing video and set user message"
      ]
    },
    {
      "cell_type": "code",
      "execution_count": 6,
      "metadata": {
        "colab": {
          "base_uri": "https://localhost:8080/"
        },
        "id": "cQIJBZh_YXRY",
        "outputId": "c0f69b1a-b5ab-46b7-8af3-3ff3e50fe571"
      },
      "outputs": [
        {
          "output_type": "stream",
          "name": "stdout",
          "text": [
            "Step into the future of video content with our latest demo, where we showcase the groundbreaking capabilities of Camel AI. Discover how to seamlessly integrate AI to process and narrate videos using GPT's visual prowess and TTS API. From content moderation to accessibility enhancements, watch as we transform and analyze videos in real-time. Whether you're a creator, developer, or tech enthusiast, this video will inspire you to unlock the full potential of AI in multimedia. Join us on this exciting journey and see how the next generation of video technology is shaping up!\n"
          ]
        }
      ],
      "source": [
        "# Provide your video path\n",
        "video_cctv = \"/content/download/This AI Agent Analyses Videos Brilliantly (5 Easy Examples You Can Try).mp4\"\n",
        "with open(video_cctv, \"rb\") as video_cctv:\n",
        "    video_bytes_cctv = video_cctv.read()\n",
        "\n",
        "# Set user message\n",
        "user_msg_cctv = BaseMessage.make_user_message(\n",
        "    role_name=\"User\",\n",
        "    content=\"These are frames from a video that I want to upload. Generate a\"\n",
        "    \"compelling description that I can upload along with the video.\",\n",
        "    video_bytes=video_bytes_cctv,\n",
        ")\n",
        "\n",
        "# Get response information\n",
        "response_cctv = camel_agent.step(user_msg_cctv)\n",
        "print(response_cctv.msgs[0].content)"
      ]
    },
    {
      "cell_type": "code",
      "execution_count": 7,
      "metadata": {
        "colab": {
          "base_uri": "https://localhost:8080/"
        },
        "id": "q7NIRGNT3bWx",
        "outputId": "25b52670-b166-4fd6-f251-c3fd95f61f6f"
      },
      "outputs": [
        {
          "output_type": "stream",
          "name": "stdout",
          "text": [
            "Introducing CRAB, the revolutionary AI-powered solution that connects and controls all your devices seamlessly. Imagine a world where a single prompt can unlock boundless capabilities across your tech ecosystem. From playing music with a voice command to syncing tasks across platforms, CRAB does it all with unparalleled efficiency. Dive into a new era of human-like multitasking, where technology works harmoniously to enhance your digital life. Explore this cutting-edge innovation now and see the future of integrated device management unfold before your eyes!\n"
          ]
        }
      ],
      "source": [
        "# Provide your video path\n",
        "video_help = \"/content/download/Introducing CRAB.mp4\"\n",
        "with open(video_help, \"rb\") as video_help:\n",
        "    video_bytes_help = video_help.read()\n",
        "\n",
        "# Set user message\n",
        "user_msg_help = BaseMessage.make_user_message(\n",
        "    role_name=\"User\",\n",
        "    content=\"These are frames from a video that I want to upload. Generate a\"\n",
        "    \"compelling description that I can upload along with the video.\",\n",
        "    video_bytes=video_bytes_help,\n",
        ")\n",
        "\n",
        "# Get response information\n",
        "response_help = camel_agent.step(user_msg_help)\n",
        "print(response_help.msgs[0].content)"
      ]
    },
    {
      "cell_type": "markdown",
      "metadata": {
        "id": "viFQeSvoZNqj"
      },
      "source": [
        "## 🌟 Highlights"
      ]
    },
    {
      "cell_type": "markdown",
      "metadata": {
        "id": "34kfhNBdZNqj"
      },
      "source": [
        "This notebook has guided you through setting up an agent and analyzing videos using CAMEL.\n",
        "\n",
        "Now, you know how to generate description for uploaded videos."
      ]
    },
    {
      "cell_type": "markdown",
      "metadata": {
        "id": "OZooeak3ZNqj"
      },
      "source": [
        "That's everything: Got questions about 🐫 CAMEL-AI? Join us on [Discord](https://discord.camel-ai.org)! Whether you want to share feedback, explore the latest in multi-agent systems, get support, or connect with others on exciting projects, we’d love to have you in the community! 🤝\n",
        "\n",
        "Check out some of our other work:\n",
        "\n",
        "1. 🐫 Creating Your First CAMEL Agent [free Colab](https://docs.camel-ai.org/cookbooks/create_your_first_agent.html)\n",
        "\n",
        "2.  Graph RAG Cookbook [free Colab](https://colab.research.google.com/drive/1uZKQSuu0qW6ukkuSv9TukLB9bVaS1H0U?usp=sharing)\n",
        "\n",
        "3. 🧑‍⚖️ Create A Hackathon Judge Committee with Workforce [free Colab](https://colab.research.google.com/drive/18ajYUMfwDx3WyrjHow3EvUMpKQDcrLtr?usp=sharing)\n",
        "\n",
        "4. 🔥 3 ways to ingest data from websites with Firecrawl & CAMEL [free Colab](https://colab.research.google.com/drive/1lOmM3VmgR1hLwDKdeLGFve_75RFW0R9I?usp=sharing)\n",
        "\n",
        "5. 🦥 Agentic SFT Data Generation with CAMEL and Mistral Models, Fine-Tuned with Unsloth [free Colab](https://colab.research.google.com/drive/1lYgArBw7ARVPSpdwgKLYnp_NEXiNDOd-?usp=sharingg)\n",
        "\n",
        "Thanks from everyone at 🐫 CAMEL-AI\n",
        "\n",
        "\n",
        "<div class=\"align-center\">\n",
        "  <a href=\"https://www.camel-ai.org/\"><img src=\"https://i.postimg.cc/KzQ5rfBC/button.png\"width=\"150\"></a>\n",
        "  <a href=\"https://discord.camel-ai.org\"><img src=\"https://i.postimg.cc/L4wPdG9N/join-2.png\"  width=\"150\"></a></a>\n",
        "  \n",
        "⭐ <i>Star us on [*Github*](https://github.com/camel-ai/camel), join our [*Discord*](https://discord.camel-ai.org) or follow our [*X*](https://x.com/camelaiorg)\n",
        "</div>\n"
      ]
    },
    {
      "cell_type": "markdown",
      "metadata": {
        "id": "JB4qquEUZNqj"
      },
      "source": []
    }
  ],
  "metadata": {
    "colab": {
      "provenance": []
    },
    "kernelspec": {
      "display_name": "Python 3",
      "name": "python3"
    },
    "language_info": {
      "name": "python"
    }
  },
  "nbformat": 4,
  "nbformat_minor": 0
}